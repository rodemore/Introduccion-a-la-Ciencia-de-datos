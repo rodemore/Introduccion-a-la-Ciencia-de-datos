{
 "cells": [
  {
   "cell_type": "code",
   "execution_count": 10,
   "metadata": {},
   "outputs": [],
   "source": [
    "from lxml import html\n",
    "import requests\n",
    "import pandas as pd"
   ]
  },
  {
   "cell_type": "code",
   "execution_count": 11,
   "metadata": {},
   "outputs": [],
   "source": [
    "page = requests.get(\"https://www.imdb.com/chart/boxoffice\")\n",
    "tree = html.fromstring(page.content)"
   ]
  },
  {
   "cell_type": "code",
   "execution_count": 12,
   "metadata": {},
   "outputs": [],
   "source": [
    "my_rows = tree.xpath('//tr')"
   ]
  },
  {
   "cell_type": "code",
   "execution_count": 13,
   "metadata": {},
   "outputs": [
    {
     "name": "stdout",
     "output_type": "stream",
     "text": [
      "[]\n",
      "['Spider-Man: Far from Home']\n",
      "['Toy Story 4']\n",
      "['Yesterday']\n",
      "['Annabelle Comes Home']\n",
      "['Aladdin']\n",
      "['Midsommar']\n",
      "['The Secret Life of Pets 2']\n",
      "['Men in Black: International']\n",
      "['Avengers: Endgame']\n",
      "['Rocketman']\n",
      "[]\n",
      "[]\n"
     ]
    }
   ],
   "source": [
    "for e in my_rows:\n",
    "    x=e.xpath(\"./td[@class='titleColumn']/a/text()\")\n",
    "    print(x)"
   ]
  },
  {
   "cell_type": "code",
   "execution_count": null,
   "metadata": {},
   "outputs": [],
   "source": []
  },
  {
   "cell_type": "code",
   "execution_count": null,
   "metadata": {},
   "outputs": [],
   "source": []
  },
  {
   "cell_type": "code",
   "execution_count": null,
   "metadata": {},
   "outputs": [],
   "source": []
  },
  {
   "cell_type": "code",
   "execution_count": 14,
   "metadata": {},
   "outputs": [],
   "source": [
    "contents = tree.xpath(\"//table/tbody/tr/td[@class='titleColumn']\")"
   ]
  },
  {
   "cell_type": "code",
   "execution_count": 15,
   "metadata": {},
   "outputs": [],
   "source": [
    "dicc={ \"Peliculas\":[],\"Gross\":[], \"link\":[]}"
   ]
  },
  {
   "cell_type": "code",
   "execution_count": 16,
   "metadata": {},
   "outputs": [
    {
     "name": "stdout",
     "output_type": "stream",
     "text": [
      "['Spider-Man: Far from Home']\n",
      "['/title/tt6320628']\n",
      "['$185.1M']\n",
      "\n",
      "['Toy Story 4']\n",
      "['/title/tt1979376']\n",
      "['$306.1M']\n",
      "\n",
      "['Yesterday']\n",
      "['/title/tt8079248']\n",
      "['$36.2M']\n",
      "\n",
      "['Annabelle Comes Home']\n",
      "['/title/tt8350360']\n",
      "['$49.8M']\n",
      "\n",
      "['Aladdin']\n",
      "['/title/tt6139732']\n",
      "['$320.7M']\n",
      "\n",
      "['Midsommar']\n",
      "['/title/tt8772262']\n",
      "['$10.9M']\n",
      "\n",
      "['The Secret Life of Pets 2']\n",
      "['/title/tt5113040']\n",
      "['$140.7M']\n",
      "\n",
      "['Men in Black: International']\n",
      "['/title/tt2283336']\n",
      "['$72.1M']\n",
      "\n",
      "['Avengers: Endgame']\n",
      "['/title/tt4154796']\n",
      "['$847.9M']\n",
      "\n",
      "['Rocketman']\n",
      "['/title/tt2066051']\n",
      "['$89.0M']\n",
      "\n"
     ]
    }
   ],
   "source": [
    "for elem in contents: \n",
    "    ancestor = elem.xpath(\"./ancestor::tr\")[0]\n",
    "    title = ancestor.xpath(\"./td[@class='titleColumn']/a/text()\")\n",
    "    print(title)\n",
    "    \n",
    "    \n",
    "    link = ancestor.xpath(\"./td[@class='titleColumn']/a/@href\")\n",
    "    \n",
    "    print(link)\n",
    "    \n",
    "    gross = ancestor.xpath(\".//span[@class='secondaryInfo']/text()\")\n",
    "    print(gross)\n",
    "    print(\"\")\n",
    "    \n",
    "    \n",
    "    dicc[\"Peliculas\"].append(title[0])\n",
    "    dicc[\"Gross\"].append(gross[0])\n",
    "    dicc[\"link\"].append(link[0])\n",
    "    \n",
    "    \n",
    "    \n",
    "    "
   ]
  },
  {
   "cell_type": "code",
   "execution_count": 17,
   "metadata": {},
   "outputs": [
    {
     "data": {
      "text/html": [
       "<div>\n",
       "<style scoped>\n",
       "    .dataframe tbody tr th:only-of-type {\n",
       "        vertical-align: middle;\n",
       "    }\n",
       "\n",
       "    .dataframe tbody tr th {\n",
       "        vertical-align: top;\n",
       "    }\n",
       "\n",
       "    .dataframe thead th {\n",
       "        text-align: right;\n",
       "    }\n",
       "</style>\n",
       "<table border=\"1\" class=\"dataframe\">\n",
       "  <thead>\n",
       "    <tr style=\"text-align: right;\">\n",
       "      <th></th>\n",
       "      <th>Peliculas</th>\n",
       "      <th>Gross</th>\n",
       "      <th>link</th>\n",
       "    </tr>\n",
       "  </thead>\n",
       "  <tbody>\n",
       "    <tr>\n",
       "      <th>0</th>\n",
       "      <td>Spider-Man: Far from Home</td>\n",
       "      <td>185.1</td>\n",
       "      <td>/title/tt6320628</td>\n",
       "    </tr>\n",
       "    <tr>\n",
       "      <th>1</th>\n",
       "      <td>Toy Story 4</td>\n",
       "      <td>306.1</td>\n",
       "      <td>/title/tt1979376</td>\n",
       "    </tr>\n",
       "    <tr>\n",
       "      <th>2</th>\n",
       "      <td>Yesterday</td>\n",
       "      <td>36.2</td>\n",
       "      <td>/title/tt8079248</td>\n",
       "    </tr>\n",
       "    <tr>\n",
       "      <th>3</th>\n",
       "      <td>Annabelle Comes Home</td>\n",
       "      <td>49.8</td>\n",
       "      <td>/title/tt8350360</td>\n",
       "    </tr>\n",
       "    <tr>\n",
       "      <th>4</th>\n",
       "      <td>Aladdin</td>\n",
       "      <td>320.7</td>\n",
       "      <td>/title/tt6139732</td>\n",
       "    </tr>\n",
       "    <tr>\n",
       "      <th>5</th>\n",
       "      <td>Midsommar</td>\n",
       "      <td>10.9</td>\n",
       "      <td>/title/tt8772262</td>\n",
       "    </tr>\n",
       "    <tr>\n",
       "      <th>6</th>\n",
       "      <td>The Secret Life of Pets 2</td>\n",
       "      <td>140.7</td>\n",
       "      <td>/title/tt5113040</td>\n",
       "    </tr>\n",
       "    <tr>\n",
       "      <th>7</th>\n",
       "      <td>Men in Black: International</td>\n",
       "      <td>72.1</td>\n",
       "      <td>/title/tt2283336</td>\n",
       "    </tr>\n",
       "    <tr>\n",
       "      <th>8</th>\n",
       "      <td>Avengers: Endgame</td>\n",
       "      <td>847.9</td>\n",
       "      <td>/title/tt4154796</td>\n",
       "    </tr>\n",
       "    <tr>\n",
       "      <th>9</th>\n",
       "      <td>Rocketman</td>\n",
       "      <td>89.0</td>\n",
       "      <td>/title/tt2066051</td>\n",
       "    </tr>\n",
       "  </tbody>\n",
       "</table>\n",
       "</div>"
      ],
      "text/plain": [
       "                     Peliculas  Gross              link\n",
       "0    Spider-Man: Far from Home  185.1  /title/tt6320628\n",
       "1                  Toy Story 4  306.1  /title/tt1979376\n",
       "2                    Yesterday   36.2  /title/tt8079248\n",
       "3         Annabelle Comes Home   49.8  /title/tt8350360\n",
       "4                      Aladdin  320.7  /title/tt6139732\n",
       "5                    Midsommar   10.9  /title/tt8772262\n",
       "6    The Secret Life of Pets 2  140.7  /title/tt5113040\n",
       "7  Men in Black: International   72.1  /title/tt2283336\n",
       "8            Avengers: Endgame  847.9  /title/tt4154796\n",
       "9                    Rocketman   89.0  /title/tt2066051"
      ]
     },
     "execution_count": 17,
     "metadata": {},
     "output_type": "execute_result"
    }
   ],
   "source": [
    "df = pd.DataFrame(dicc)\n",
    "df[\"Gross\"] = df[\"Gross\"].apply(transform)\n",
    "df"
   ]
  },
  {
   "cell_type": "code",
   "execution_count": null,
   "metadata": {},
   "outputs": [],
   "source": []
  },
  {
   "cell_type": "code",
   "execution_count": 18,
   "metadata": {},
   "outputs": [],
   "source": [
    "def transform(n):\n",
    "    return float(n.replace(\"M\",\"\").replace(\"$\",\"\").replace(\",\",\".\"))"
   ]
  },
  {
   "cell_type": "code",
   "execution_count": null,
   "metadata": {},
   "outputs": [],
   "source": []
  },
  {
   "cell_type": "code",
   "execution_count": 19,
   "metadata": {},
   "outputs": [],
   "source": [
    "page = requests.get(\"https://www.geodatos.net/coordenadas/ecuador\")\n",
    "tree = html.fromstring(page.content)"
   ]
  },
  {
   "cell_type": "code",
   "execution_count": 20,
   "metadata": {},
   "outputs": [
    {
     "data": {
      "text/plain": [
       "['Guayaquil',\n",
       " 'Quito',\n",
       " 'Cuenca',\n",
       " 'Santo Domingo de los Colorados',\n",
       " 'Machala',\n",
       " 'Manta',\n",
       " 'Portoviejo',\n",
       " 'Eloy Alfaro',\n",
       " 'Esmeraldas',\n",
       " 'Ambato',\n",
       " 'Tutamandahostel',\n",
       " 'Milagro',\n",
       " 'Ibarra',\n",
       " 'Riobamba',\n",
       " 'Quevedo',\n",
       " 'Loja',\n",
       " 'Tulcán',\n",
       " 'Babahoyo',\n",
       " 'La Libertad',\n",
       " 'Latacunga',\n",
       " 'Velasco Ibarra']"
      ]
     },
     "execution_count": 20,
     "metadata": {},
     "output_type": "execute_result"
    }
   ],
   "source": [
    "tree.xpath(\"//div[@class='container']/div[@class='row']/div[2]/div[@class='panel panel-default']//table/tbody/tr/td[1]/text()\")"
   ]
  },
  {
   "cell_type": "code",
   "execution_count": 23,
   "metadata": {},
   "outputs": [],
   "source": [
    "page = requests.get(\"https://www.geodatos.net/coordenadas/ecuador/orellana/puerto-francisco-de-orellana\")"
   ]
  },
  {
   "cell_type": "code",
   "execution_count": 24,
   "metadata": {},
   "outputs": [],
   "source": [
    "tree = html.fromstring(page.content)"
   ]
  },
  {
   "cell_type": "code",
   "execution_count": 25,
   "metadata": {},
   "outputs": [
    {
     "data": {
      "text/plain": [
       "['Estándar decimal simple', '-0.46645', '-76.9871902']"
      ]
     },
     "execution_count": 25,
     "metadata": {},
     "output_type": "execute_result"
    }
   ],
   "source": [
    "tree.xpath(\"/html/body/div/div[1]/div[1]/div/div/div[4]/div[2]/div/table/tbody/tr[1]/td/text()\")"
   ]
  },
  {
   "cell_type": "code",
   "execution_count": null,
   "metadata": {},
   "outputs": [],
   "source": []
  }
 ],
 "metadata": {
  "kernelspec": {
   "display_name": "Python 3",
   "language": "python",
   "name": "python3"
  },
  "language_info": {
   "codemirror_mode": {
    "name": "ipython",
    "version": 3
   },
   "file_extension": ".py",
   "mimetype": "text/x-python",
   "name": "python",
   "nbconvert_exporter": "python",
   "pygments_lexer": "ipython3",
   "version": "3.7.6"
  }
 },
 "nbformat": 4,
 "nbformat_minor": 2
}
