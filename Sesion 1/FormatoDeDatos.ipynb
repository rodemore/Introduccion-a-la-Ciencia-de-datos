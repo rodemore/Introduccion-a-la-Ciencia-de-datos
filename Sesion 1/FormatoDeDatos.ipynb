{
 "cells": [
  {
   "cell_type": "markdown",
   "metadata": {},
   "source": [
    "# Formato de Datos"
   ]
  },
  {
   "cell_type": "markdown",
   "metadata": {},
   "source": [
    "### CSV(Comma-separed values)"
   ]
  },
  {
   "cell_type": "markdown",
   "metadata": {},
   "source": [
    "Ejercicio 1:  Leer el archivo **iris.csv** y convertirlo en Dataframe"
   ]
  },
  {
   "cell_type": "code",
   "execution_count": 4,
   "metadata": {},
   "outputs": [],
   "source": [
    "# Leer el archivo iris.csv que está en las carpeta datasets"
   ]
  },
  {
   "cell_type": "code",
   "execution_count": null,
   "metadata": {},
   "outputs": [],
   "source": [
    "# Presentar las primeras 3 filas"
   ]
  },
  {
   "cell_type": "markdown",
   "metadata": {},
   "source": [
    "### JSON(JavaScript Object Notation)"
   ]
  },
  {
   "cell_type": "markdown",
   "metadata": {},
   "source": [
    "![Hey](images/como_leer_json.png)"
   ]
  },
  {
   "cell_type": "markdown",
   "metadata": {},
   "source": [
    "Ejercicio 2: leer el archivo **personajes_sw.json** "
   ]
  },
  {
   "cell_type": "code",
   "execution_count": 27,
   "metadata": {},
   "outputs": [],
   "source": [
    "# leer el archivo personajes_sw.json que está en la carpeta datasets"
   ]
  },
  {
   "cell_type": "code",
   "execution_count": 28,
   "metadata": {},
   "outputs": [],
   "source": [
    "# Imprimir el tipo de dato de la variable json_data"
   ]
  },
  {
   "cell_type": "code",
   "execution_count": null,
   "metadata": {},
   "outputs": [],
   "source": [
    "# Imprimir la variable data"
   ]
  },
  {
   "cell_type": "code",
   "execution_count": 35,
   "metadata": {},
   "outputs": [],
   "source": [
    "# Imprimir el NOMBRE y CUMPLEAÑOS de todos los personajes en el json"
   ]
  },
  {
   "cell_type": "markdown",
   "metadata": {},
   "source": [
    "Ejercicio 3: Leer el contenido de la variable tweet"
   ]
  },
  {
   "cell_type": "code",
   "execution_count": 135,
   "metadata": {},
   "outputs": [],
   "source": [
    "tweet = '{\"created_at\": \"Fri Jun 05 16:03:00 +0000 2020\", \"id\": 1268936368614518785, \"id_str\": \"1268936368614518785\", \"full_text\": \"RT @santidavid: Stgo Cuesta dijo que permaneceria influyendo y lo vimos entrando a Carondelet durante el #paronacionalEC (y luego lo oimos\\\\u2026\", \"truncated\": false, \"display_text_range\": [0, 139], \"entities\": {\"hashtags\": [{\"text\": \"paronacionalEC\", \"indices\": [105, 120]}], \"symbols\": [], \"user_mentions\": [{\"screen_name\": \"santidavid\", \"name\": \"santidavid \\\\u2667\", \"id\": 19854620, \"id_str\": \"19854620\", \"indices\": [3, 14]}], \"urls\": []}, \"metadata\": {\"iso_language_code\": \"es\", \"result_type\": \"recent\"}, \"source\": \"<a href=\\\\\"http://twitter.com/download/android\\\\\" rel=\\\\\"nofollow\\\\\">Twitter for Android</a>\", \"in_reply_to_status_id\": null, \"in_reply_to_status_id_str\": null, \"in_reply_to_user_id\": null, \"in_reply_to_user_id_str\": null, \"in_reply_to_screen_name\": null, \"user\": {\"id\": 756454416, \"id_str\": \"756454416\", \"name\": \"AureaZambrano\", \"screen_name\": \"auritazambrano\", \"location\": \"Manta, Ecuador\", \"description\": \"Jam\\\\u00e1s podras saber cuanto lograr\\\\u00e1 un simple acto de generosidad. Procura hacer el bien sin importar a quien, sin esperar a cambio un favor.\", \"url\": null, \"entities\": {\"description\": {\"urls\": []}}, \"protected\": false, \"followers_count\": 433, \"friends_count\": 368, \"listed_count\": 4, \"created_at\": \"Tue Aug 14 04:28:15 +0000 2012\", \"favourites_count\": 24642, \"utc_offset\": null, \"time_zone\": null, \"geo_enabled\": true, \"verified\": false, \"statuses_count\": 41355, \"lang\": null, \"contributors_enabled\": false, \"is_translator\": false, \"is_translation_enabled\": false, \"profile_background_color\": \"C0DEED\", \"profile_background_image_url\": \"http://abs.twimg.com/images/themes/theme1/bg.png\", \"profile_background_image_url_https\": \"https://abs.twimg.com/images/themes/theme1/bg.png\", \"profile_background_tile\": false, \"profile_image_url\": \"http://pbs.twimg.com/profile_images/2520030964/0c4V3V7E_normal\", \"profile_image_url_https\": \"https://pbs.twimg.com/profile_images/2520030964/0c4V3V7E_normal\", \"profile_banner_url\": \"https://pbs.twimg.com/profile_banners/756454416/1407471223\", \"profile_link_color\": \"1DA1F2\", \"profile_sidebar_border_color\": \"C0DEED\", \"profile_sidebar_fill_color\": \"DDEEF6\", \"profile_text_color\": \"333333\", \"profile_use_background_image\": true, \"has_extended_profile\": false, \"default_profile\": true, \"default_profile_image\": false, \"following\": false, \"follow_request_sent\": false, \"notifications\": false, \"translator_type\": \"none\"}, \"geo\": null, \"coordinates\": null, \"place\": null, \"contributors\": null, \"retweeted_status\": {\"created_at\": \"Thu Jun 04 19:55:21 +0000 2020\", \"id\": 1268632451582169088, \"id_str\": \"1268632451582169088\", \"full_text\": \"Stgo Cuesta dijo que permaneceria influyendo y lo vimos entrando a Carondelet durante el #paronacionalEC (y luego lo oimos en un audio donde presionaba para que autoricen medicamentos que no pasaban pruebas)\\\\nCarlos Perez ofrecio \\\\\"quedarse por detras\\\\\" cuando renuncio a Energia: https://t.co/9TCiJTnfDd\", \"truncated\": false, \"display_text_range\": [0, 277], \"entities\": {\"hashtags\": [{\"text\": \"paronacionalEC\", \"indices\": [89, 104]}], \"symbols\": [], \"user_mentions\": [], \"urls\": [{\"url\": \"https://t.co/9TCiJTnfDd\", \"expanded_url\": \"https://twitter.com/NoBombardeenUIO/status/1268591998312812544\", \"display_url\": \"twitter.com/NoBombardeenUI\\\\u2026\", \"indices\": [278, 301]}]}, \"metadata\": {\"iso_language_code\": \"es\", \"result_type\": \"recent\"}, \"source\": \"<a href=\\\\\"http://twitter.com/download/android\\\\\" rel=\\\\\"nofollow\\\\\">Twitter for Android</a>\", \"in_reply_to_status_id\": null, \"in_reply_to_status_id_str\": null, \"in_reply_to_user_id\": null, \"in_reply_to_user_id_str\": null, \"in_reply_to_screen_name\": null, \"user\": {\"id\": 19854620, \"id_str\": \"19854620\", \"name\": \"santidavid \\\\u2667\", \"screen_name\": \"santidavid\", \"location\": \"\\\\ud83c\\\\udfe1\", \"description\": \"pregunto mucho. me gusta compartir el conocimiento y avisar de comedido cuando veo que algo no anda bien, para que corrijan. santidavid [at] riseup [dot] net\", \"url\": \"https://t.co/bkGN1VcooT\", \"entities\": {\"url\": {\"urls\": [{\"url\": \"https://t.co/bkGN1VcooT\", \"expanded_url\": \"http://www.santidavid.com\", \"display_url\": \"santidavid.com\", \"indices\": [0, 23]}]}, \"description\": {\"urls\": []}}, \"protected\": false, \"followers_count\": 4750, \"friends_count\": 4456, \"listed_count\": 101, \"created_at\": \"Sun Feb 01 11:55:36 +0000 2009\", \"favourites_count\": 11175, \"utc_offset\": null, \"time_zone\": null, \"geo_enabled\": true, \"verified\": false, \"statuses_count\": 124584, \"lang\": null, \"contributors_enabled\": false, \"is_translator\": false, \"is_translation_enabled\": false, \"profile_background_color\": \"352726\", \"profile_background_image_url\": \"http://abs.twimg.com/images/themes/theme5/bg.gif\", \"profile_background_image_url_https\": \"https://abs.twimg.com/images/themes/theme5/bg.gif\", \"profile_background_tile\": true, \"profile_image_url\": \"http://pbs.twimg.com/profile_images/1256487088247144449/6kIN7DpQ_normal.jpg\", \"profile_image_url_https\": \"https://pbs.twimg.com/profile_images/1256487088247144449/6kIN7DpQ_normal.jpg\", \"profile_banner_url\": \"https://pbs.twimg.com/profile_banners/19854620/1567358870\", \"profile_link_color\": \"91D2FA\", \"profile_sidebar_border_color\": \"FFFFFF\", \"profile_sidebar_fill_color\": \"99CC33\", \"profile_text_color\": \"3E4415\", \"profile_use_background_image\": true, \"has_extended_profile\": false, \"default_profile\": false, \"default_profile_image\": false, \"following\": false, \"follow_request_sent\": false, \"notifications\": false, \"translator_type\": \"none\"}, \"geo\": null, \"coordinates\": null, \"place\": null, \"contributors\": null, \"is_quote_status\": true, \"quoted_status_id\": 1268591998312812544, \"quoted_status_id_str\": \"1268591998312812544\", \"quoted_status\": {\"created_at\": \"Thu Jun 04 17:14:36 +0000 2020\", \"id\": 1268591998312812544, \"id_str\": \"1268591998312812544\", \"full_text\": \"Parece que est\\\\u00e1 volviendo la moda de los asesores \\\\\"ad honorem\\\\\", seres  desinteresados que ejercen funciones p\\\\u00fablicas sin sueldo ni obligaci\\\\u00f3n de rendir cuentas o dejar un informe. https://t.co/9RgzlJ3rBm\", \"truncated\": false, \"display_text_range\": [0, 179], \"entities\": {\"hashtags\": [], \"symbols\": [], \"user_mentions\": [], \"urls\": [], \"media\": [{\"id\": 1268591984123543553, \"id_str\": \"1268591984123543553\", \"indices\": [180, 203], \"media_url\": \"http://pbs.twimg.com/media/EZrxsDKXgAE0O5K.jpg\", \"media_url_https\": \"https://pbs.twimg.com/media/EZrxsDKXgAE0O5K.jpg\", \"url\": \"https://t.co/9RgzlJ3rBm\", \"display_url\": \"pic.twitter.com/9RgzlJ3rBm\", \"expanded_url\": \"https://twitter.com/NoBombardeenUIO/status/1268591998312812544/photo/1\", \"type\": \"photo\", \"sizes\": {\"thumb\": {\"w\": 150, \"h\": 150, \"resize\": \"crop\"}, \"medium\": {\"w\": 980, \"h\": 1200, \"resize\": \"fit\"}, \"large\": {\"w\": 1080, \"h\": 1322, \"resize\": \"fit\"}, \"small\": {\"w\": 556, \"h\": 680, \"resize\": \"fit\"}}}]}, \"extended_entities\": {\"media\": [{\"id\": 1268591984123543553, \"id_str\": \"1268591984123543553\", \"indices\": [180, 203], \"media_url\": \"http://pbs.twimg.com/media/EZrxsDKXgAE0O5K.jpg\", \"media_url_https\": \"https://pbs.twimg.com/media/EZrxsDKXgAE0O5K.jpg\", \"url\": \"https://t.co/9RgzlJ3rBm\", \"display_url\": \"pic.twitter.com/9RgzlJ3rBm\", \"expanded_url\": \"https://twitter.com/NoBombardeenUIO/status/1268591998312812544/photo/1\", \"type\": \"photo\", \"sizes\": {\"thumb\": {\"w\": 150, \"h\": 150, \"resize\": \"crop\"}, \"medium\": {\"w\": 980, \"h\": 1200, \"resize\": \"fit\"}, \"large\": {\"w\": 1080, \"h\": 1322, \"resize\": \"fit\"}, \"small\": {\"w\": 556, \"h\": 680, \"resize\": \"fit\"}}}, {\"id\": 1268591991488643072, \"id_str\": \"1268591991488643072\", \"indices\": [180, 203], \"media_url\": \"http://pbs.twimg.com/media/EZrxsemWAAAvMvj.jpg\", \"media_url_https\": \"https://pbs.twimg.com/media/EZrxsemWAAAvMvj.jpg\", \"url\": \"https://t.co/9RgzlJ3rBm\", \"display_url\": \"pic.twitter.com/9RgzlJ3rBm\", \"expanded_url\": \"https://twitter.com/NoBombardeenUIO/status/1268591998312812544/photo/1\", \"type\": \"photo\", \"sizes\": {\"thumb\": {\"w\": 150, \"h\": 150, \"resize\": \"crop\"}, \"medium\": {\"w\": 709, \"h\": 1200, \"resize\": \"fit\"}, \"small\": {\"w\": 402, \"h\": 680, \"resize\": \"fit\"}, \"large\": {\"w\": 1079, \"h\": 1826, \"resize\": \"fit\"}}}]}, \"metadata\": {\"iso_language_code\": \"es\", \"result_type\": \"recent\"}, \"source\": \"<a href=\\\\\"http://twitter.com/download/android\\\\\" rel=\\\\\"nofollow\\\\\">Twitter for Android</a>\", \"in_reply_to_status_id\": null, \"in_reply_to_status_id_str\": null, \"in_reply_to_user_id\": null, \"in_reply_to_user_id_str\": null, \"in_reply_to_screen_name\": null, \"user\": {\"id\": 197204625, \"id_str\": \"197204625\", \"name\": \"Sebas Naranjo\", \"screen_name\": \"NoBombardeenUIO\", \"location\": \"Quito, a 18 minutos del Sol\", \"description\": \"Garciano-Spinettiano. Loco del Excel, coleccionista de bases y sonidos.\\\\nLead Guitar at Cuervos, Mary Jane, Pink Floyd Relics, The Affordables.\", \"url\": \"https://t.co/m5yk3oH8if\", \"entities\": {\"url\": {\"urls\": [{\"url\": \"https://t.co/m5yk3oH8if\", \"expanded_url\": \"http://www.calculoelectoral.com\", \"display_url\": \"calculoelectoral.com\", \"indices\": [0, 23]}]}, \"description\": {\"urls\": []}}, \"protected\": false, \"followers_count\": 1201, \"friends_count\": 217, \"listed_count\": 8, \"created_at\": \"Thu Sep 30 22:20:21 +0000 2010\", \"favourites_count\": 12703, \"utc_offset\": null, \"time_zone\": null, \"geo_enabled\": true, \"verified\": false, \"statuses_count\": 12141, \"lang\": null, \"contributors_enabled\": false, \"is_translator\": false, \"is_translation_enabled\": false, \"profile_background_color\": \"000203\", \"profile_background_image_url\": \"http://abs.twimg.com/images/themes/theme1/bg.png\", \"profile_background_image_url_https\": \"https://abs.twimg.com/images/themes/theme1/bg.png\", \"profile_background_tile\": false, \"profile_image_url\": \"http://pbs.twimg.com/profile_images/1245820250941263875/oDUxQ_V__normal.jpg\", \"profile_image_url_https\": \"https://pbs.twimg.com/profile_images/1245820250941263875/oDUxQ_V__normal.jpg\", \"profile_banner_url\": \"https://pbs.twimg.com/profile_banners/197204625/1568059488\", \"profile_link_color\": \"00A4E0\", \"profile_sidebar_border_color\": \"000000\", \"profile_sidebar_fill_color\": \"FFFFFF\", \"profile_text_color\": \"403D40\", \"profile_use_background_image\": true, \"has_extended_profile\": true, \"default_profile\": false, \"default_profile_image\": false, \"following\": false, \"follow_request_sent\": false, \"notifications\": false, \"translator_type\": \"none\"}, \"geo\": null, \"coordinates\": null, \"place\": null, \"contributors\": null, \"is_quote_status\": false, \"retweet_count\": 75, \"favorite_count\": 89, \"favorited\": false, \"retweeted\": false, \"possibly_sensitive\": false, \"lang\": \"es\"}, \"retweet_count\": 154, \"favorite_count\": 153, \"favorited\": false, \"retweeted\": false, \"possibly_sensitive\": false, \"lang\": \"es\"}, \"is_quote_status\": true, \"quoted_status_id\": 1268591998312812544, \"quoted_status_id_str\": \"1268591998312812544\", \"retweet_count\": 154, \"favorite_count\": 0, \"favorited\": false, \"retweeted\": false, \"lang\": \"es\"}'"
   ]
  },
  {
   "cell_type": "code",
   "execution_count": 133,
   "metadata": {},
   "outputs": [],
   "source": [
    "# leer el contenido de la variable tweet"
   ]
  },
  {
   "cell_type": "code",
   "execution_count": 55,
   "metadata": {},
   "outputs": [],
   "source": [
    "# Imprimir la fecha de creación del tweet"
   ]
  },
  {
   "cell_type": "code",
   "execution_count": 56,
   "metadata": {},
   "outputs": [],
   "source": [
    "# Imprimir el texto completo del tweet"
   ]
  },
  {
   "cell_type": "code",
   "execution_count": null,
   "metadata": {},
   "outputs": [],
   "source": [
    "# Imprimir los hashtags que utiliza el tweet"
   ]
  },
  {
   "cell_type": "code",
   "execution_count": 57,
   "metadata": {},
   "outputs": [],
   "source": [
    "# Imprimir la cantidad de seguidores que tiene el usuario del tweet"
   ]
  },
  {
   "cell_type": "code",
   "execution_count": null,
   "metadata": {},
   "outputs": [],
   "source": []
  },
  {
   "attachments": {},
   "cell_type": "markdown",
   "metadata": {},
   "source": [
    "### XML(eXtensible Markup Language)"
   ]
  },
  {
   "cell_type": "markdown",
   "metadata": {},
   "source": [
    "Leyendo un archivo .html localmente"
   ]
  },
  {
   "cell_type": "code",
   "execution_count": 206,
   "metadata": {},
   "outputs": [
    {
     "ename": "FileNotFoundError",
     "evalue": "[Errno 2] No such file or directory: 'recursos/imdb_top.html'",
     "output_type": "error",
     "traceback": [
      "\u001b[1;31m---------------------------------------------------------------------------\u001b[0m",
      "\u001b[1;31mFileNotFoundError\u001b[0m                         Traceback (most recent call last)",
      "\u001b[1;32m<ipython-input-206-aced6e2f5af9>\u001b[0m in \u001b[0;36m<module>\u001b[1;34m\u001b[0m\n\u001b[1;32m----> 1\u001b[1;33m \u001b[0mhtml_file\u001b[0m \u001b[1;33m=\u001b[0m \u001b[0mopen\u001b[0m\u001b[1;33m(\u001b[0m\u001b[1;34m\"recursos/imdb_top.html\"\u001b[0m\u001b[1;33m)\u001b[0m\u001b[1;33m.\u001b[0m\u001b[0mread\u001b[0m\u001b[1;33m(\u001b[0m\u001b[1;33m)\u001b[0m\u001b[1;33m\u001b[0m\u001b[1;33m\u001b[0m\u001b[0m\n\u001b[0m",
      "\u001b[1;31mFileNotFoundError\u001b[0m: [Errno 2] No such file or directory: 'recursos/imdb_top.html'"
     ]
    }
   ],
   "source": [
    "html_file = open(\"recursos/imdb_top.html\").read()"
   ]
  },
  {
   "cell_type": "code",
   "execution_count": 166,
   "metadata": {},
   "outputs": [],
   "source": [
    "soup = bs4.BeautifulSoup(html_file, 'html.parser')"
   ]
  },
  {
   "cell_type": "markdown",
   "metadata": {},
   "source": [
    "Haciendo request a una página web"
   ]
  },
  {
   "cell_type": "code",
   "execution_count": 167,
   "metadata": {},
   "outputs": [],
   "source": [
    "import requests\n",
    "import bs4"
   ]
  },
  {
   "cell_type": "code",
   "execution_count": 168,
   "metadata": {},
   "outputs": [
    {
     "data": {
      "text/plain": [
       "200"
      ]
     },
     "execution_count": 168,
     "metadata": {},
     "output_type": "execute_result"
    }
   ],
   "source": [
    "response = requests.get(\"https://www.imdb.com/chart/boxoffice\")\n",
    "response.status_code"
   ]
  },
  {
   "cell_type": "code",
   "execution_count": 169,
   "metadata": {},
   "outputs": [],
   "source": [
    "soup = bs4.BeautifulSoup(response.text, 'html.parser')"
   ]
  },
  {
   "cell_type": "code",
   "execution_count": 170,
   "metadata": {},
   "outputs": [
    {
     "data": {
      "text/plain": [
       "<title>IMDb Top Box Office - IMDb</title>"
      ]
     },
     "execution_count": 170,
     "metadata": {},
     "output_type": "execute_result"
    }
   ],
   "source": [
    "soup.title"
   ]
  },
  {
   "cell_type": "code",
   "execution_count": 171,
   "metadata": {},
   "outputs": [
    {
     "data": {
      "text/plain": [
       "'IMDb Top Box Office - IMDb'"
      ]
     },
     "execution_count": 171,
     "metadata": {},
     "output_type": "execute_result"
    }
   ],
   "source": [
    "soup.title.text"
   ]
  },
  {
   "cell_type": "code",
   "execution_count": 175,
   "metadata": {},
   "outputs": [
    {
     "data": {
      "text/plain": [
       "<a href=\"/?ref_=nv_home\"><svg class=\"ipc-logo WNY8DBPCS1ZbiSd7NoqdP\" height=\"56\" version=\"1.1\" viewbox=\"0 0 64 32\" width=\"98\" xmlns=\"http://www.w3.org/2000/svg\"><g fill=\"#F5C518\"><rect height=\"100%\" rx=\"4\" width=\"100%\" x=\"0\" y=\"0\"></rect></g><g fill=\"#000000\" fill-rule=\"nonzero\" transform=\"translate(8.000000, 7.000000)\"><polygon points=\"0 18 5 18 5 0 0 0\"></polygon><path d=\"M15.6725178,0 L14.5534833,8.40846934 L13.8582008,3.83502426 C13.65661,2.37009263 13.4632474,1.09175121 13.278113,0 L7,0 L7,18 L11.2416347,18 L11.2580911,6.11380679 L13.0436094,18 L16.0633571,18 L17.7583653,5.8517865 L17.7707076,18 L22,18 L22,0 L15.6725178,0 Z\"></path><path d=\"M24,18 L24,0 L31.8045586,0 C33.5693522,0 35,1.41994415 35,3.17660424 L35,14.8233958 C35,16.5777858 33.5716617,18 31.8045586,18 L24,18 Z M29.8322479,3.2395236 C29.6339219,3.13233348 29.2545158,3.08072342 28.7026524,3.08072342 L28.7026524,14.8914865 C29.4312846,14.8914865 29.8796736,14.7604764 30.0478195,14.4865461 C30.2159654,14.2165858 30.3021941,13.486105 30.3021941,12.2871637 L30.3021941,5.3078959 C30.3021941,4.49404499 30.272014,3.97397442 30.2159654,3.74371416 C30.1599168,3.5134539 30.0348852,3.34671372 29.8322479,3.2395236 Z\"></path><path d=\"M44.4299079,4.50685823 L44.749518,4.50685823 C46.5447098,4.50685823 48,5.91267586 48,7.64486762 L48,14.8619906 C48,16.5950653 46.5451816,18 44.749518,18 L44.4299079,18 C43.3314617,18 42.3602746,17.4736618 41.7718697,16.6682739 L41.4838962,17.7687785 L37,17.7687785 L37,0 L41.7843263,0 L41.7843263,5.78053556 C42.4024982,5.01015739 43.3551514,4.50685823 44.4299079,4.50685823 Z M43.4055679,13.2842155 L43.4055679,9.01907814 C43.4055679,8.31433946 43.3603268,7.85185468 43.2660746,7.63896485 C43.1718224,7.42607505 42.7955881,7.2893916 42.5316822,7.2893916 C42.267776,7.2893916 41.8607934,7.40047379 41.7816216,7.58767002 L41.7816216,9.01907814 L41.7816216,13.4207851 L41.7816216,14.8074788 C41.8721037,15.0130276 42.2602358,15.1274059 42.5316822,15.1274059 C42.8031285,15.1274059 43.1982131,15.0166981 43.281155,14.8074788 C43.3640968,14.5982595 43.4055679,14.0880581 43.4055679,13.2842155 Z\"></path></g></svg></a>"
      ]
     },
     "execution_count": 175,
     "metadata": {},
     "output_type": "execute_result"
    }
   ],
   "source": [
    "soup.find(\"a\")"
   ]
  },
  {
   "cell_type": "code",
   "execution_count": 176,
   "metadata": {},
   "outputs": [
    {
     "data": {
      "text/plain": [
       "[<a href=\"/?ref_=nv_home\"><svg class=\"ipc-logo WNY8DBPCS1ZbiSd7NoqdP\" height=\"56\" version=\"1.1\" viewbox=\"0 0 64 32\" width=\"98\" xmlns=\"http://www.w3.org/2000/svg\"><g fill=\"#F5C518\"><rect height=\"100%\" rx=\"4\" width=\"100%\" x=\"0\" y=\"0\"></rect></g><g fill=\"#000000\" fill-rule=\"nonzero\" transform=\"translate(8.000000, 7.000000)\"><polygon points=\"0 18 5 18 5 0 0 0\"></polygon><path d=\"M15.6725178,0 L14.5534833,8.40846934 L13.8582008,3.83502426 C13.65661,2.37009263 13.4632474,1.09175121 13.278113,0 L7,0 L7,18 L11.2416347,18 L11.2580911,6.11380679 L13.0436094,18 L16.0633571,18 L17.7583653,5.8517865 L17.7707076,18 L22,18 L22,0 L15.6725178,0 Z\"></path><path d=\"M24,18 L24,0 L31.8045586,0 C33.5693522,0 35,1.41994415 35,3.17660424 L35,14.8233958 C35,16.5777858 33.5716617,18 31.8045586,18 L24,18 Z M29.8322479,3.2395236 C29.6339219,3.13233348 29.2545158,3.08072342 28.7026524,3.08072342 L28.7026524,14.8914865 C29.4312846,14.8914865 29.8796736,14.7604764 30.0478195,14.4865461 C30.2159654,14.2165858 30.3021941,13.486105 30.3021941,12.2871637 L30.3021941,5.3078959 C30.3021941,4.49404499 30.272014,3.97397442 30.2159654,3.74371416 C30.1599168,3.5134539 30.0348852,3.34671372 29.8322479,3.2395236 Z\"></path><path d=\"M44.4299079,4.50685823 L44.749518,4.50685823 C46.5447098,4.50685823 48,5.91267586 48,7.64486762 L48,14.8619906 C48,16.5950653 46.5451816,18 44.749518,18 L44.4299079,18 C43.3314617,18 42.3602746,17.4736618 41.7718697,16.6682739 L41.4838962,17.7687785 L37,17.7687785 L37,0 L41.7843263,0 L41.7843263,5.78053556 C42.4024982,5.01015739 43.3551514,4.50685823 44.4299079,4.50685823 Z M43.4055679,13.2842155 L43.4055679,9.01907814 C43.4055679,8.31433946 43.3603268,7.85185468 43.2660746,7.63896485 C43.1718224,7.42607505 42.7955881,7.2893916 42.5316822,7.2893916 C42.267776,7.2893916 41.8607934,7.40047379 41.7816216,7.58767002 L41.7816216,9.01907814 L41.7816216,13.4207851 L41.7816216,14.8074788 C41.8721037,15.0130276 42.2602358,15.1274059 42.5316822,15.1274059 C42.8031285,15.1274059 43.1982131,15.0166981 43.281155,14.8074788 C43.3640968,14.5982595 43.4055679,14.0880581 43.4055679,13.2842155 Z\"></path></g></svg></a>,\n",
       " <a aria-disabled=\"false\" class=\"ipc-list__item nav-link sc-jTzLTM fjLstn ipc-list__item--indent-one\" href=\"https://www.imdb.com/calendar/?ref_=nv_mv_cal\" role=\"menuitem\" tabindex=\"-1\"><span class=\"ipc-list-item__text\" role=\"presentation\">Release Calendar</span></a>,\n",
       " <a aria-disabled=\"false\" class=\"ipc-list__item nav-link nav-link--hideXS nav-link--hideS nav-link--hideM sc-jTzLTM fjLstn ipc-list__item--indent-one\" href=\"https://www.imdb.com/list/ls016522954/?ref_=nv_tvv_dvd\" role=\"menuitem\" tabindex=\"-1\"><span class=\"ipc-list-item__text\" role=\"presentation\">DVD &amp; Blu-ray Releases</span></a>,\n",
       " <a aria-disabled=\"false\" class=\"ipc-list__item nav-link sc-jTzLTM fjLstn ipc-list__item--indent-one\" href=\"/chart/top/?ref_=nv_mv_250\" role=\"menuitem\" tabindex=\"-1\"><span class=\"ipc-list-item__text\" role=\"presentation\">Top Rated Movies</span></a>,\n",
       " <a aria-disabled=\"false\" class=\"ipc-list__item nav-link sc-jTzLTM fjLstn ipc-list__item--indent-one\" href=\"/chart/moviemeter/?ref_=nv_mv_mpm\" role=\"menuitem\" tabindex=\"-1\"><span class=\"ipc-list-item__text\" role=\"presentation\">Most Popular Movies</span></a>,\n",
       " <a aria-disabled=\"false\" class=\"ipc-list__item nav-link nav-link--hideXS nav-link--hideS nav-link--hideM sc-jTzLTM fjLstn ipc-list__item--indent-one\" href=\"https://www.imdb.com/feature/genre/?ref_=nv_ch_gr\" role=\"menuitem\" tabindex=\"-1\"><span class=\"ipc-list-item__text\" role=\"presentation\">Browse Movies by Genre</span></a>,\n",
       " <a aria-disabled=\"false\" class=\"ipc-list__item nav-link sc-jTzLTM fjLstn ipc-list__item--indent-one\" href=\"/chart/boxoffice/?ref_=nv_ch_cht\" role=\"menuitem\" tabindex=\"-1\"><span class=\"ipc-list-item__text\" role=\"presentation\">Top Box Office</span></a>,\n",
       " <a aria-disabled=\"false\" class=\"ipc-list__item nav-link nav-link--hideL nav-link--hideXL sc-jTzLTM fjLstn ipc-list__item--indent-one\" href=\"https://m.imdb.com/showtimes/movie/?ref_=nv_mv_sh\" role=\"menuitem\" tabindex=\"-1\"><span class=\"ipc-list-item__text\" role=\"presentation\">Showtimes &amp; Tickets</span></a>,\n",
       " <a aria-disabled=\"false\" class=\"ipc-list__item nav-link nav-link--hideXS nav-link--hideS nav-link--hideM sc-jTzLTM fjLstn ipc-list__item--indent-one\" href=\"https://www.imdb.com/showtimes/?ref_=nv_mv_sh\" role=\"menuitem\" tabindex=\"-1\"><span class=\"ipc-list-item__text\" role=\"presentation\">Showtimes &amp; Tickets</span></a>,\n",
       " <a aria-disabled=\"false\" class=\"ipc-list__item nav-link nav-link--hideXS nav-link--hideS nav-link--hideM sc-jTzLTM fjLstn ipc-list__item--indent-one\" href=\"https://www.imdb.com/movies-in-theaters/?ref_=nv_mv_inth\" role=\"menuitem\" tabindex=\"-1\"><span class=\"ipc-list-item__text\" role=\"presentation\">In Theaters</span></a>,\n",
       " <a aria-disabled=\"false\" class=\"ipc-list__item nav-link nav-link--hideL nav-link--hideXL sc-jTzLTM fjLstn ipc-list__item--indent-one\" href=\"https://m.imdb.com/coming-soon/?ref_=nv_mv_cs\" role=\"menuitem\" tabindex=\"-1\"><span class=\"ipc-list-item__text\" role=\"presentation\">Coming Soon</span></a>,\n",
       " <a aria-disabled=\"false\" class=\"ipc-list__item nav-link nav-link--hideXS nav-link--hideS nav-link--hideM sc-jTzLTM fjLstn ipc-list__item--indent-one\" href=\"https://www.imdb.com/coming-soon/?ref_=nv_mv_cs\" role=\"menuitem\" tabindex=\"-1\"><span class=\"ipc-list-item__text\" role=\"presentation\">Coming Soon</span></a>,\n",
       " <a aria-disabled=\"false\" class=\"ipc-list__item nav-link sc-jTzLTM fjLstn ipc-list__item--indent-one\" href=\"/news/movie/?ref_=nv_nw_mv\" role=\"menuitem\" tabindex=\"-1\"><span class=\"ipc-list-item__text\" role=\"presentation\">Movie News</span></a>,\n",
       " <a aria-disabled=\"false\" class=\"ipc-list__item nav-link sc-jTzLTM fjLstn ipc-list__item--indent-one\" href=\"/india/toprated/?ref_=nv_mv_in\" role=\"menuitem\" tabindex=\"-1\"><span class=\"ipc-list-item__text\" role=\"presentation\">India Movie Spotlight</span></a>,\n",
       " <a aria-disabled=\"false\" class=\"ipc-list__item nav-link nav-link--hideXS nav-link--hideS nav-link--hideM sc-jTzLTM fjLstn ipc-list__item--indent-one\" href=\"https://www.imdb.com/whats-on-tv/?ref_=nv_tv_ontv\" role=\"menuitem\" tabindex=\"-1\"><span class=\"ipc-list-item__text\" role=\"presentation\">What's on TV &amp; Streaming</span></a>,\n",
       " <a aria-disabled=\"false\" class=\"ipc-list__item nav-link nav-link--hideL nav-link--hideXL sc-jTzLTM fjLstn ipc-list__item--indent-one\" href=\"https://m.imdb.com/whats-on-tv/?ref_=nv_tv_ontv\" role=\"menuitem\" tabindex=\"-1\"><span class=\"ipc-list-item__text\" role=\"presentation\">What's on TV &amp; Streaming</span></a>,\n",
       " <a aria-disabled=\"false\" class=\"ipc-list__item nav-link sc-jTzLTM fjLstn ipc-list__item--indent-one\" href=\"/chart/toptv/?ref_=nv_tvv_250\" role=\"menuitem\" tabindex=\"-1\"><span class=\"ipc-list-item__text\" role=\"presentation\">Top Rated Shows</span></a>,\n",
       " <a aria-disabled=\"false\" class=\"ipc-list__item nav-link sc-jTzLTM fjLstn ipc-list__item--indent-one\" href=\"/chart/tvmeter/?ref_=nv_tvv_mptv\" role=\"menuitem\" tabindex=\"-1\"><span class=\"ipc-list-item__text\" role=\"presentation\">Most Popular Shows</span></a>,\n",
       " <a aria-disabled=\"false\" class=\"ipc-list__item nav-link nav-link--hideXS nav-link--hideS nav-link--hideM sc-jTzLTM fjLstn ipc-list__item--indent-one\" href=\"https://www.imdb.com/feature/genre/?ref_=nv_tv_gr\" role=\"menuitem\" tabindex=\"-1\"><span class=\"ipc-list-item__text\" role=\"presentation\">Browse TV Shows by Genre</span></a>,\n",
       " <a aria-disabled=\"false\" class=\"ipc-list__item nav-link sc-jTzLTM fjLstn ipc-list__item--indent-one\" href=\"/news/tv/?ref_=nv_nw_tv\" role=\"menuitem\" tabindex=\"-1\"><span class=\"ipc-list-item__text\" role=\"presentation\">TV News</span></a>,\n",
       " <a aria-disabled=\"false\" class=\"ipc-list__item nav-link sc-jTzLTM fjLstn ipc-list__item--indent-one\" href=\"/india/tv?ref_=nv_tv_in\" role=\"menuitem\" tabindex=\"-1\"><span class=\"ipc-list-item__text\" role=\"presentation\">India TV Spotlight</span></a>,\n",
       " <a aria-disabled=\"false\" class=\"ipc-list__item nav-link sc-jTzLTM fjLstn ipc-list__item--indent-one\" href=\"/oscars/?ref_=nv_ev_acd\" role=\"menuitem\" tabindex=\"-1\"><span class=\"ipc-list-item__text\" role=\"presentation\">Oscars</span></a>,\n",
       " <a aria-disabled=\"false\" class=\"ipc-list__item nav-link nav-link--hideL nav-link--hideXL sc-jTzLTM fjLstn ipc-list__item--indent-one\" href=\"https://m.imdb.com/feature/bestpicture/?ref_=nv_ch_osc\" role=\"menuitem\" tabindex=\"-1\"><span class=\"ipc-list-item__text\" role=\"presentation\">Best Picture Winners</span></a>,\n",
       " <a aria-disabled=\"false\" class=\"ipc-list__item nav-link nav-link--hideXS nav-link--hideS nav-link--hideM sc-jTzLTM fjLstn ipc-list__item--indent-one\" href=\"https://www.imdb.com/search/title/?count=100&amp;groups=oscar_best_picture_winners&amp;sort=year%2Cdesc&amp;ref_=nv_ch_osc\" role=\"menuitem\" tabindex=\"-1\"><span class=\"ipc-list-item__text\" role=\"presentation\">Best Picture Winners</span></a>,\n",
       " <a aria-disabled=\"false\" class=\"ipc-list__item nav-link sc-jTzLTM fjLstn ipc-list__item--indent-one\" href=\"/golden-globes/?ref_=nv_ev_gg\" role=\"menuitem\" tabindex=\"-1\"><span class=\"ipc-list-item__text\" role=\"presentation\">Golden Globes</span></a>,\n",
       " <a aria-disabled=\"false\" class=\"ipc-list__item nav-link sc-jTzLTM fjLstn ipc-list__item--indent-one\" href=\"/emmys/?ref_=nv_ev_rte\" role=\"menuitem\" tabindex=\"-1\"><span class=\"ipc-list-item__text\" role=\"presentation\">Emmys</span></a>,\n",
       " <a aria-disabled=\"false\" class=\"ipc-list__item nav-link sc-jTzLTM fjLstn ipc-list__item--indent-one\" href=\"/comic-con/?ref_=nv_ev_comic\" role=\"menuitem\" tabindex=\"-1\"><span class=\"ipc-list-item__text\" role=\"presentation\">San Diego Comic-Con</span></a>,\n",
       " <a aria-disabled=\"false\" class=\"ipc-list__item nav-link sc-jTzLTM fjLstn ipc-list__item--indent-one\" href=\"/nycc/?ref_=nv_ev_nycc\" role=\"menuitem\" tabindex=\"-1\"><span class=\"ipc-list-item__text\" role=\"presentation\">New York Comic-Con</span></a>,\n",
       " <a aria-disabled=\"false\" class=\"ipc-list__item nav-link sc-jTzLTM fjLstn ipc-list__item--indent-one\" href=\"/sundance/?ref_=nv_ev_sun\" role=\"menuitem\" tabindex=\"-1\"><span class=\"ipc-list-item__text\" role=\"presentation\">Sundance Film Festival</span></a>,\n",
       " <a aria-disabled=\"false\" class=\"ipc-list__item nav-link sc-jTzLTM fjLstn ipc-list__item--indent-one\" href=\"/toronto/?ref_=nv_ev_tor\" role=\"menuitem\" tabindex=\"-1\"><span class=\"ipc-list-item__text\" role=\"presentation\">Toronto Int'l Film Festival</span></a>,\n",
       " <a aria-disabled=\"false\" class=\"ipc-list__item nav-link sc-jTzLTM fjLstn ipc-list__item--indent-one\" href=\"/awards-central/?ref_=nv_ev_awrd\" role=\"menuitem\" tabindex=\"-1\"><span class=\"ipc-list-item__text\" role=\"presentation\">Awards Central</span></a>,\n",
       " <a aria-disabled=\"false\" class=\"ipc-list__item nav-link sc-jTzLTM fjLstn ipc-list__item--indent-one\" href=\"/festival-central/?ref_=nv_ev_fc\" role=\"menuitem\" tabindex=\"-1\"><span class=\"ipc-list-item__text\" role=\"presentation\">Festival Central</span></a>,\n",
       " <a aria-disabled=\"false\" class=\"ipc-list__item nav-link sc-jTzLTM fjLstn ipc-list__item--indent-one\" href=\"https://www.imdb.com/event/all/?ref_=nv_ev_all\" role=\"menuitem\" tabindex=\"-1\"><span class=\"ipc-list-item__text\" role=\"presentation\">All Events</span></a>,\n",
       " <a aria-disabled=\"false\" class=\"ipc-list__item nav-link sc-jTzLTM fjLstn ipc-list__item--indent-one\" href=\"/feature/bornondate/?ref_=nv_cel_brn\" role=\"menuitem\" tabindex=\"-1\"><span class=\"ipc-list-item__text\" role=\"presentation\">Born Today</span></a>,\n",
       " <a aria-disabled=\"false\" class=\"ipc-list__item nav-link nav-link--hideL nav-link--hideXL sc-jTzLTM fjLstn ipc-list__item--indent-one\" href=\"https://m.imdb.com/chart/starmeter/?ref_=nv_cel_brn\" role=\"menuitem\" tabindex=\"-1\"><span class=\"ipc-list-item__text\" role=\"presentation\">Most Popular Celebs</span></a>,\n",
       " <a aria-disabled=\"false\" class=\"ipc-list__item nav-link nav-link--hideXS nav-link--hideS nav-link--hideM sc-jTzLTM fjLstn ipc-list__item--indent-one\" href=\"https://www.imdb.com/search/name/?gender=male%2Cfemale&amp;ref_=nv_cel_m\" role=\"menuitem\" tabindex=\"-1\"><span class=\"ipc-list-item__text\" role=\"presentation\">Most Popular Celebs</span></a>,\n",
       " <a aria-disabled=\"false\" class=\"ipc-list__item nav-link sc-jTzLTM fjLstn ipc-list__item--indent-one\" href=\"/news/celebrity/?ref_=nv_cel_nw\" role=\"menuitem\" tabindex=\"-1\"><span class=\"ipc-list-item__text\" role=\"presentation\">Celebrity News</span></a>,\n",
       " <a aria-disabled=\"false\" class=\"ipc-list__item nav-link sc-jTzLTM fjLstn ipc-list__item--indent-one\" href=\"/originals/?ref_=nv_sf_ori\" role=\"menuitem\" tabindex=\"-1\"><span class=\"ipc-list-item__text\" role=\"presentation\">IMDb Originals</span></a>,\n",
       " <a aria-disabled=\"false\" class=\"ipc-list__item nav-link sc-jTzLTM fjLstn ipc-list__item--indent-one\" href=\"/trailers/?ref_=nv_mv_tr\" role=\"menuitem\" tabindex=\"-1\"><span class=\"ipc-list-item__text\" role=\"presentation\">Latest Trailers</span></a>,\n",
       " <a aria-disabled=\"false\" class=\"ipc-list__item nav-link sc-jTzLTM fjLstn ipc-list__item--indent-one\" href=\"https://help.imdb.com/imdb?ref_=cons_nb_hlp\" role=\"menuitem\" tabindex=\"-1\"><span class=\"ipc-list-item__text\" role=\"presentation\">Help Center</span></a>,\n",
       " <a aria-disabled=\"false\" class=\"ipc-list__item nav-link sc-jTzLTM fjLstn ipc-list__item--indent-one\" href=\"https://contribute.imdb.com/czone?ref_=nv_cm_cz\" role=\"menuitem\" tabindex=\"-1\"><span class=\"ipc-list-item__text\" role=\"presentation\">Contributor Zone</span></a>,\n",
       " <a aria-disabled=\"false\" class=\"ipc-list__item nav-link sc-jTzLTM fjLstn ipc-list__item--indent-one\" href=\"/poll/?ref_=nv_cm_pl\" role=\"menuitem\" tabindex=\"-1\"><span class=\"ipc-list-item__text\" role=\"presentation\">Polls</span></a>,\n",
       " <a aria-disabled=\"false\" aria-label=\"Go To IMDb Pro\" class=\"ipc-list__item nav-link _3xW8qYlqcCPv5fOHeXBer5 sc-jTzLTM fjLstn\" href=\"https://pro.imdb.com?ref_=cons_nb_hm&amp;rf=cons_nb_hm\" role=\"menuitem\" tabindex=\"0\" target=\"_blank\"><span class=\"ipc-list-item__text\" role=\"presentation\"><div class=\"_33PK8nBHiT1fGjnfXwum3v sc-cSHVUG kSadNP\"><svg class=\"ipc-logo\" height=\"13\" version=\"1.1\" viewbox=\"0 0 56 13\" width=\"56\"><g fill=\"currentColor\"><path d=\"M43.1161781,1.30854271 L43.1161781,2.6641206 L43.1573833,2.6641206 C43.6948426,1.45447236 44.6855592,1.10050251 45.8637894,1.10050251 L45.8637894,3.72844221 C43.3024973,3.56201005 43.2606949,5.0641206 43.2606949,6.10673367 L43.2606949,11.8444221 L40.3464712,11.8444221 L40.3464712,1.30854271 L43.1161781,1.30854271 Z\" fill-rule=\"nonzero\"></path><path d=\"M35.4334962,0 L30.3927253,0 L30.3927253,11.8444221 L33.5123779,11.8444221 L33.5123779,7.46653266 L35.2477742,7.46653266 C38.9030945,7.46653266 39.3999457,5.6321608 39.3999457,3.92140704 C39.3999457,1.16683417 38.2838219,0 35.4334962,0 Z M34.8811075,5.28603015 L33.5183496,5.28603015 L33.5183496,1.90914573 L34.8811075,1.90914573 C35.858089,1.90914573 36.4492942,2.38371859 36.4492942,3.6440201 C36.4492942,4.48341709 36.1011401,5.28603015 34.8811075,5.28603015 Z\" fill-rule=\"nonzero\"></path><path d=\"M46.4573833,6.32743719 C46.4573833,3.4480402 46.8706298,0.986532663 50.7140608,0.986532663 C54.5574919,0.986532663 54.9689468,3.4480402 54.9689468,6.32743719 C54.9689468,9.62351759 54.4738871,11.9396985 50.7140608,11.9396985 C46.9542345,11.9396985 46.4573833,9.62351759 46.4573833,6.32743719 Z M52.0571118,6.16100503 C52.0571118,3.96964824 51.9538002,2.86432161 50.7140608,2.86432161 C49.4743214,2.86432161 49.3710098,3.96964824 49.3710098,6.16100503 C49.3710098,9.37266332 49.6403366,10.0619095 50.7140608,10.0619095 C51.787785,10.0619095 52.0565147,9.37266332 52.0565147,6.16100503 L52.0571118,6.16100503 Z\" fill-rule=\"nonzero\"></path><rect fill-rule=\"nonzero\" height=\"11.8124623\" width=\"3.03843648\" x=\"0\" y=\"0.0301507538\"></rect><path d=\"M9.51900109,0.0301507538 L8.8155266,5.54773869 L8.38018458,2.54713568 C8.25278683,1.58432161 8.13136084,0.745326633 8.01590662,0.0301507538 L4.07453855,0.0301507538 L4.07453855,11.8426131 L6.73615635,11.8426131 L6.74809989,4.04020101 L7.86840391,11.839598 L9.76444083,11.839598 L10.8268187,3.86653266 L10.8363735,11.839598 L13.4896308,11.839598 L13.4896308,0.0301507538 L9.51900109,0.0301507538 Z\"></path><path d=\"M18.2401737,2.15577889 C18.3613005,2.22685521 18.4456965,2.34775012 18.4712812,2.48683417 C18.5047231,2.63758794 18.5214441,2.97929648 18.5214441,3.5119598 L18.5214441,8.09246231 C18.5214441,8.87919598 18.4710822,9.36160804 18.3703583,9.53969849 C18.2696345,9.71778894 18.0007058,9.80623116 17.5635722,9.80503729 L17.5635722,2.05025126 C17.8944083,2.05025126 18.1199421,2.08542714 18.2401737,2.15577889 Z M18.2085233,11.8426131 C18.9366811,11.8426131 19.4817047,11.8024121 19.8435939,11.7220101 C20.1760582,11.6557965 20.4883129,11.5111601 20.754886,11.2998995 C21.0104507,11.0828833 21.1913005,10.7896393 21.2714441,10.4623116 C21.3705755,10.1053266 21.429696,9.39738693 21.429696,8.33849246 L21.429696,4.18914573 C21.429696,3.07296482 21.3866992,2.32341709 21.3192182,1.94231156 C21.2491064,1.55561593 21.073757,1.19626854 20.8128122,0.904522613 C20.54249,0.592964824 20.1481542,0.369447236 19.6298046,0.233969849 C19.1114549,0.0982914573 18.2658523,0.0295477387 16.7944083,0.0295477387 L14.5251357,0.0295477387 L14.5251357,11.8426131 L18.2085233,11.8426131 Z\"></path><path d=\"M26.416721,8.97527638 C26.416721,9.54693467 26.3886536,9.90874372 26.332519,10.0607035 C26.2763844,10.2102513 26.0339305,10.2868342 25.8458198,10.2868342 C25.657709,10.2868342 25.5472313,10.2132663 25.4833333,10.0673367 C25.4194354,9.92140704 25.3925624,9.59095477 25.3925624,9.07175879 L25.3925624,5.94934673 C25.3925624,5.41025126 25.4192363,5.07417085 25.4725841,4.94110553 C25.525932,4.8080402 25.6429786,4.74150754 25.8237242,4.74150754 C26.0094463,4.74150754 26.2584691,4.81748744 26.3211726,4.97065327 C26.3838762,5.1238191 26.416721,5.44884422 26.416721,5.9481407 L26.416721,8.97527638 Z M22.4652009,0.0301507538 L22.4652009,11.8426131 L25.2008686,11.8426131 L25.3901737,11.0900503 C25.6130801,11.37176 25.8917241,11.6034266 26.2083062,11.7702513 C26.5068947,11.921608 26.9517915,11.9975879 27.2963626,11.9975879 C27.741081,12.0083011 28.1774148,11.8742607 28.5408795,11.6152764 C28.8904271,11.360402 29.1125769,11.0588945 29.207329,10.7107538 C29.3020811,10.3626131 29.349059,9.83497487 29.3482628,9.1278392 L29.3482628,5.8160804 C29.3482628,5.10211055 29.3333333,4.63778894 29.301683,4.41889447 C29.2603631,4.17705181 29.1645365,3.94803829 29.0216069,3.74954774 C28.8515909,3.51011348 28.6163121,3.32574882 28.3444083,3.21889447 C28.0116005,3.08534049 27.6555905,3.02074296 27.297557,3.02894472 C26.9482085,3.02894472 26.5009229,3.09949749 26.2029316,3.23819095 C25.8905716,3.38828976 25.6139569,3.60466937 25.3919653,3.87256281 L25.3919653,0.0301507538 L22.4652009,0.0301507538 Z\"></path></g></svg><div class=\"sc-kAzzGY AlwcH\">For Industry Professionals</div></div></span><span class=\"ipc-list-item__icon ipc-list-item__icon--post\" role=\"presentation\"><svg class=\"ipc-icon ipc-icon--launch\" fill=\"currentColor\" height=\"24\" role=\"presentation\" viewbox=\"0 0 24 24\" width=\"24\" xmlns=\"http://www.w3.org/2000/svg\"><path d=\"M16 16.667H8A.669.669 0 0 1 7.333 16V8c0-.367.3-.667.667-.667h3.333c.367 0 .667-.3.667-.666C12 6.3 11.7 6 11.333 6h-4C6.593 6 6 6.6 6 7.333v9.334C6 17.4 6.6 18 7.333 18h9.334C17.4 18 18 17.4 18 16.667v-4c0-.367-.3-.667-.667-.667-.366 0-.666.3-.666.667V16c0 .367-.3.667-.667.667zm-2.667-10c0 .366.3.666.667.666h1.727L9.64 13.42a.664.664 0 1 0 .94.94l6.087-6.087V10c0 .367.3.667.666.667.367 0 .667-.3.667-.667V6h-4c-.367 0-.667.3-.667.667z\"></path></svg></span></a>,\n",
       " <a aria-label=\"Home\" class=\"sc-bdVaJa iWlUOU imdb-header__logo-link _3XaDsUnZG7ZfFqFF37dZPv\" href=\"/?ref_=nv_home\" id=\"home_img_holder\"><svg class=\"ipc-logo\" height=\"32\" id=\"home_img\" version=\"1.1\" viewbox=\"0 0 64 32\" width=\"64\" xmlns=\"http://www.w3.org/2000/svg\"><g fill=\"#F5C518\"><rect height=\"100%\" rx=\"4\" width=\"100%\" x=\"0\" y=\"0\"></rect></g><g fill=\"#000000\" fill-rule=\"nonzero\" transform=\"translate(8.000000, 7.000000)\"><polygon points=\"0 18 5 18 5 0 0 0\"></polygon><path d=\"M15.6725178,0 L14.5534833,8.40846934 L13.8582008,3.83502426 C13.65661,2.37009263 13.4632474,1.09175121 13.278113,0 L7,0 L7,18 L11.2416347,18 L11.2580911,6.11380679 L13.0436094,18 L16.0633571,18 L17.7583653,5.8517865 L17.7707076,18 L22,18 L22,0 L15.6725178,0 Z\"></path><path d=\"M24,18 L24,0 L31.8045586,0 C33.5693522,0 35,1.41994415 35,3.17660424 L35,14.8233958 C35,16.5777858 33.5716617,18 31.8045586,18 L24,18 Z M29.8322479,3.2395236 C29.6339219,3.13233348 29.2545158,3.08072342 28.7026524,3.08072342 L28.7026524,14.8914865 C29.4312846,14.8914865 29.8796736,14.7604764 30.0478195,14.4865461 C30.2159654,14.2165858 30.3021941,13.486105 30.3021941,12.2871637 L30.3021941,5.3078959 C30.3021941,4.49404499 30.272014,3.97397442 30.2159654,3.74371416 C30.1599168,3.5134539 30.0348852,3.34671372 29.8322479,3.2395236 Z\"></path><path d=\"M44.4299079,4.50685823 L44.749518,4.50685823 C46.5447098,4.50685823 48,5.91267586 48,7.64486762 L48,14.8619906 C48,16.5950653 46.5451816,18 44.749518,18 L44.4299079,18 C43.3314617,18 42.3602746,17.4736618 41.7718697,16.6682739 L41.4838962,17.7687785 L37,17.7687785 L37,0 L41.7843263,0 L41.7843263,5.78053556 C42.4024982,5.01015739 43.3551514,4.50685823 44.4299079,4.50685823 Z M43.4055679,13.2842155 L43.4055679,9.01907814 C43.4055679,8.31433946 43.3603268,7.85185468 43.2660746,7.63896485 C43.1718224,7.42607505 42.7955881,7.2893916 42.5316822,7.2893916 C42.267776,7.2893916 41.8607934,7.40047379 41.7816216,7.58767002 L41.7816216,9.01907814 L41.7816216,13.4207851 L41.7816216,14.8074788 C41.8721037,15.0130276 42.2602358,15.1274059 42.5316822,15.1274059 C42.8031285,15.1274059 43.1982131,15.0166981 43.281155,14.8074788 C43.3640968,14.5982595 43.4055679,14.0880581 43.4055679,13.2842155 Z\"></path></g></svg></a>,\n",
       " <a aria-disabled=\"false\" aria-label=\"All\" class=\"ipc-list__item _1L5qcXA4wOKR8LeHJgsqja _3lrXaniHRqyCb5hUFHbcds\" role=\"menuitem\" tabindex=\"0\"><span class=\"ipc-list-item__text\" role=\"presentation\"><svg class=\"ipc-icon ipc-icon--search _2re8nTkPmRXI_TBcLnh1u8\" fill=\"currentColor\" height=\"24\" role=\"presentation\" viewbox=\"0 0 24 24\" width=\"24\" xmlns=\"http://www.w3.org/2000/svg\"><path d=\"M0 0h24v24H0V0z\" fill=\"none\"></path><path d=\"M15.5 14h-.79l-.28-.27a6.5 6.5 0 0 0 1.48-5.34c-.47-2.78-2.79-5-5.59-5.34a6.505 6.505 0 0 0-7.27 7.27c.34 2.8 2.56 5.12 5.34 5.59a6.5 6.5 0 0 0 5.34-1.48l.27.28v.79l4.25 4.25c.41.41 1.08.41 1.49 0 .41-.41.41-1.08 0-1.49L15.5 14zm-6 0C7.01 14 5 11.99 5 9.5S7.01 5 9.5 5 14 7.01 14 9.5 11.99 14 9.5 14z\"></path></svg>All</span></a>,\n",
       " <a aria-disabled=\"false\" aria-label=\"Titles\" class=\"ipc-list__item _1L5qcXA4wOKR8LeHJgsqja\" role=\"menuitem\" tabindex=\"0\"><span class=\"ipc-list-item__text\" role=\"presentation\"><svg class=\"ipc-icon ipc-icon--movie _2re8nTkPmRXI_TBcLnh1u8\" fill=\"currentColor\" height=\"24\" role=\"presentation\" viewbox=\"0 0 24 24\" width=\"24\" xmlns=\"http://www.w3.org/2000/svg\"><path d=\"M0 0h24v24H0V0z\" fill=\"none\"></path><path d=\"M18 4v1h-2V4c0-.55-.45-1-1-1H9c-.55 0-1 .45-1 1v1H6V4c0-.55-.45-1-1-1s-1 .45-1 1v16c0 .55.45 1 1 1s1-.45 1-1v-1h2v1c0 .55.45 1 1 1h6c.55 0 1-.45 1-1v-1h2v1c0 .55.45 1 1 1s1-.45 1-1V4c0-.55-.45-1-1-1s-1 .45-1 1zM8 17H6v-2h2v2zm0-4H6v-2h2v2zm0-4H6V7h2v2zm10 8h-2v-2h2v2zm0-4h-2v-2h2v2zm0-4h-2V7h2v2z\"></path></svg>Titles</span></a>,\n",
       " <a aria-disabled=\"false\" aria-label=\"TV Episodes\" class=\"ipc-list__item _1L5qcXA4wOKR8LeHJgsqja\" role=\"menuitem\" tabindex=\"0\"><span class=\"ipc-list-item__text\" role=\"presentation\"><svg class=\"ipc-icon ipc-icon--television _2re8nTkPmRXI_TBcLnh1u8\" fill=\"currentColor\" height=\"24\" role=\"presentation\" viewbox=\"0 0 24 24\" width=\"24\" xmlns=\"http://www.w3.org/2000/svg\"><path d=\"M0 0h24v24H0V0z\" fill=\"none\"></path><path d=\"M21 3H3c-1.1 0-2 .9-2 2v12c0 1.1.9 2 2 2h5v1c0 .55.45 1 1 1h6c.55 0 1-.45 1-1v-1h5c1.1 0 1.99-.9 1.99-2L23 5a2 2 0 0 0-2-2zm-1 14H4c-.55 0-1-.45-1-1V6c0-.55.45-1 1-1h16c.55 0 1 .45 1 1v10c0 .55-.45 1-1 1z\"></path></svg>TV Episodes</span></a>,\n",
       " <a aria-disabled=\"false\" aria-label=\"Celebs\" class=\"ipc-list__item _1L5qcXA4wOKR8LeHJgsqja\" role=\"menuitem\" tabindex=\"0\"><span class=\"ipc-list-item__text\" role=\"presentation\"><svg class=\"ipc-icon ipc-icon--people _2re8nTkPmRXI_TBcLnh1u8\" fill=\"currentColor\" height=\"24\" role=\"presentation\" viewbox=\"0 0 24 24\" width=\"24\" xmlns=\"http://www.w3.org/2000/svg\"><path d=\"M0 0h24v24H0V0z\" fill=\"none\"></path><path d=\"M16 11c1.66 0 2.99-1.34 2.99-3S17.66 5 16 5s-3 1.34-3 3 1.34 3 3 3zm-8 0c1.66 0 2.99-1.34 2.99-3S9.66 5 8 5 5 6.34 5 8s1.34 3 3 3zm0 2c-2.33 0-7 1.17-7 3.5V18c0 .55.45 1 1 1h12c.55 0 1-.45 1-1v-1.5c0-2.33-4.67-3.5-7-3.5zm8 0c-.29 0-.62.02-.97.05.02.01.03.03.04.04 1.14.83 1.93 1.94 1.93 3.41V18c0 .35-.07.69-.18 1H22c.55 0 1-.45 1-1v-1.5c0-2.33-4.67-3.5-7-3.5z\"></path></svg>Celebs</span></a>,\n",
       " <a aria-disabled=\"false\" aria-label=\"Companies\" class=\"ipc-list__item _1L5qcXA4wOKR8LeHJgsqja\" role=\"menuitem\" tabindex=\"0\"><span class=\"ipc-list-item__text\" role=\"presentation\"><svg class=\"ipc-icon ipc-icon--business _2re8nTkPmRXI_TBcLnh1u8\" fill=\"currentColor\" height=\"24\" role=\"presentation\" viewbox=\"0 0 24 24\" width=\"24\" xmlns=\"http://www.w3.org/2000/svg\"><path d=\"M0 0h24v24H0V0z\" fill=\"none\"></path><path d=\"M12 7V5c0-1.1-.9-2-2-2H4c-1.1 0-2 .9-2 2v14c0 1.1.9 2 2 2h16c1.1 0 2-.9 2-2V9c0-1.1-.9-2-2-2h-8zM6 19H4v-2h2v2zm0-4H4v-2h2v2zm0-4H4V9h2v2zm0-4H4V5h2v2zm4 12H8v-2h2v2zm0-4H8v-2h2v2zm0-4H8V9h2v2zm0-4H8V5h2v2zm9 12h-7v-2h2v-2h-2v-2h2v-2h-2V9h7c.55 0 1 .45 1 1v8c0 .55-.45 1-1 1zm-1-8h-2v2h2v-2zm0 4h-2v2h2v-2z\"></path></svg>Companies</span></a>,\n",
       " <a aria-disabled=\"false\" aria-label=\"Keywords\" class=\"ipc-list__item _1L5qcXA4wOKR8LeHJgsqja\" role=\"menuitem\" tabindex=\"0\"><span class=\"ipc-list-item__text\" role=\"presentation\"><svg class=\"ipc-icon ipc-icon--label _2re8nTkPmRXI_TBcLnh1u8\" fill=\"currentColor\" height=\"24\" role=\"presentation\" viewbox=\"0 0 24 24\" width=\"24\" xmlns=\"http://www.w3.org/2000/svg\"><path d=\"M0 0h24v24H0V0z\" fill=\"none\"></path><path d=\"M17.63 5.84C17.27 5.33 16.67 5 16 5L5 5.01C3.9 5.01 3 5.9 3 7v10c0 1.1.9 1.99 2 1.99L16 19c.67 0 1.27-.33 1.63-.84l3.96-5.58a.99.99 0 0 0 0-1.16l-3.96-5.58z\"></path></svg>Keywords</span></a>,\n",
       " <a aria-disabled=\"false\" class=\"ipc-list__item _1L5qcXA4wOKR8LeHJgsqja\" href=\"https://www.imdb.com/search/\" role=\"menuitem\" tabindex=\"0\"><span class=\"ipc-list-item__text\" role=\"presentation\"><svg class=\"ipc-icon ipc-icon--find-in-page _2re8nTkPmRXI_TBcLnh1u8\" fill=\"currentColor\" height=\"24\" role=\"presentation\" viewbox=\"0 0 24 24\" width=\"24\" xmlns=\"http://www.w3.org/2000/svg\"><path d=\"M0 0h24v24H0V0z\" fill=\"none\"></path><path d=\"M20 19.59V8.83c0-.53-.21-1.04-.59-1.41l-4.83-4.83c-.37-.38-.88-.59-1.41-.59H6c-1.1 0-1.99.9-1.99 2L4 20c0 1.1.89 2 1.99 2H18c.45 0 .85-.15 1.19-.4l-4.43-4.43c-.86.56-1.89.88-3 .82-2.37-.11-4.4-1.96-4.72-4.31a5.013 5.013 0 0 1 5.83-5.61c1.95.33 3.57 1.85 4 3.78.33 1.46.01 2.82-.7 3.9L20 19.59zM9 13c0 1.66 1.34 3 3 3s3-1.34 3-3-1.34-3-3-3-3 1.34-3 3z\"></path></svg>Advanced Search</span><span class=\"ipc-list-item__icon ipc-list-item__icon--post\" role=\"presentation\"><svg class=\"ipc-icon ipc-icon--chevron-right\" fill=\"currentColor\" height=\"24\" role=\"presentation\" viewbox=\"0 0 24 24\" width=\"24\" xmlns=\"http://www.w3.org/2000/svg\"><path d=\"M0 0h24v24H0V0z\" fill=\"none\"></path><path d=\"M9.29 6.71a.996.996 0 0 0 0 1.41L13.17 12l-3.88 3.88a.996.996 0 1 0 1.41 1.41l4.59-4.59a.996.996 0 0 0 0-1.41L10.7 6.7c-.38-.38-1.02-.38-1.41.01z\"></path></svg></span></a>,\n",
       " <a aria-label=\"Go To IMDb Pro\" class=\"ipc-button ipc-button--single-padding ipc-button--default-height ipc-button--core-baseAlt ipc-button--theme-baseAlt ipc-button--on-textPrimary ipc-text-button navbar__flyout__text-button-after-mobile navbar__imdb-pro--toggle\" href=\"https://pro.imdb.com/login/ap?u=/login/lwa&amp;imdbPageAction=signUp&amp;rf=cons_nb_hm&amp;ref_=cons_nb_hm\" tabindex=\"0\"><div class=\"ipc-button__text\"><svg class=\"ipc-logo navbar__imdbpro-menu-toggle__name\" height=\"13\" version=\"1.1\" viewbox=\"0 0 56 13\" width=\"56\"><g fill=\"currentColor\"><path d=\"M43.1161781,1.30854271 L43.1161781,2.6641206 L43.1573833,2.6641206 C43.6948426,1.45447236 44.6855592,1.10050251 45.8637894,1.10050251 L45.8637894,3.72844221 C43.3024973,3.56201005 43.2606949,5.0641206 43.2606949,6.10673367 L43.2606949,11.8444221 L40.3464712,11.8444221 L40.3464712,1.30854271 L43.1161781,1.30854271 Z\" fill-rule=\"nonzero\"></path><path d=\"M35.4334962,0 L30.3927253,0 L30.3927253,11.8444221 L33.5123779,11.8444221 L33.5123779,7.46653266 L35.2477742,7.46653266 C38.9030945,7.46653266 39.3999457,5.6321608 39.3999457,3.92140704 C39.3999457,1.16683417 38.2838219,0 35.4334962,0 Z M34.8811075,5.28603015 L33.5183496,5.28603015 L33.5183496,1.90914573 L34.8811075,1.90914573 C35.858089,1.90914573 36.4492942,2.38371859 36.4492942,3.6440201 C36.4492942,4.48341709 36.1011401,5.28603015 34.8811075,5.28603015 Z\" fill-rule=\"nonzero\"></path><path d=\"M46.4573833,6.32743719 C46.4573833,3.4480402 46.8706298,0.986532663 50.7140608,0.986532663 C54.5574919,0.986532663 54.9689468,3.4480402 54.9689468,6.32743719 C54.9689468,9.62351759 54.4738871,11.9396985 50.7140608,11.9396985 C46.9542345,11.9396985 46.4573833,9.62351759 46.4573833,6.32743719 Z M52.0571118,6.16100503 C52.0571118,3.96964824 51.9538002,2.86432161 50.7140608,2.86432161 C49.4743214,2.86432161 49.3710098,3.96964824 49.3710098,6.16100503 C49.3710098,9.37266332 49.6403366,10.0619095 50.7140608,10.0619095 C51.787785,10.0619095 52.0565147,9.37266332 52.0565147,6.16100503 L52.0571118,6.16100503 Z\" fill-rule=\"nonzero\"></path><rect fill-rule=\"nonzero\" height=\"11.8124623\" width=\"3.03843648\" x=\"0\" y=\"0.0301507538\"></rect><path d=\"M9.51900109,0.0301507538 L8.8155266,5.54773869 L8.38018458,2.54713568 C8.25278683,1.58432161 8.13136084,0.745326633 8.01590662,0.0301507538 L4.07453855,0.0301507538 L4.07453855,11.8426131 L6.73615635,11.8426131 L6.74809989,4.04020101 L7.86840391,11.839598 L9.76444083,11.839598 L10.8268187,3.86653266 L10.8363735,11.839598 L13.4896308,11.839598 L13.4896308,0.0301507538 L9.51900109,0.0301507538 Z\"></path><path d=\"M18.2401737,2.15577889 C18.3613005,2.22685521 18.4456965,2.34775012 18.4712812,2.48683417 C18.5047231,2.63758794 18.5214441,2.97929648 18.5214441,3.5119598 L18.5214441,8.09246231 C18.5214441,8.87919598 18.4710822,9.36160804 18.3703583,9.53969849 C18.2696345,9.71778894 18.0007058,9.80623116 17.5635722,9.80503729 L17.5635722,2.05025126 C17.8944083,2.05025126 18.1199421,2.08542714 18.2401737,2.15577889 Z M18.2085233,11.8426131 C18.9366811,11.8426131 19.4817047,11.8024121 19.8435939,11.7220101 C20.1760582,11.6557965 20.4883129,11.5111601 20.754886,11.2998995 C21.0104507,11.0828833 21.1913005,10.7896393 21.2714441,10.4623116 C21.3705755,10.1053266 21.429696,9.39738693 21.429696,8.33849246 L21.429696,4.18914573 C21.429696,3.07296482 21.3866992,2.32341709 21.3192182,1.94231156 C21.2491064,1.55561593 21.073757,1.19626854 20.8128122,0.904522613 C20.54249,0.592964824 20.1481542,0.369447236 19.6298046,0.233969849 C19.1114549,0.0982914573 18.2658523,0.0295477387 16.7944083,0.0295477387 L14.5251357,0.0295477387 L14.5251357,11.8426131 L18.2085233,11.8426131 Z\"></path><path d=\"M26.416721,8.97527638 C26.416721,9.54693467 26.3886536,9.90874372 26.332519,10.0607035 C26.2763844,10.2102513 26.0339305,10.2868342 25.8458198,10.2868342 C25.657709,10.2868342 25.5472313,10.2132663 25.4833333,10.0673367 C25.4194354,9.92140704 25.3925624,9.59095477 25.3925624,9.07175879 L25.3925624,5.94934673 C25.3925624,5.41025126 25.4192363,5.07417085 25.4725841,4.94110553 C25.525932,4.8080402 25.6429786,4.74150754 25.8237242,4.74150754 C26.0094463,4.74150754 26.2584691,4.81748744 26.3211726,4.97065327 C26.3838762,5.1238191 26.416721,5.44884422 26.416721,5.9481407 L26.416721,8.97527638 Z M22.4652009,0.0301507538 L22.4652009,11.8426131 L25.2008686,11.8426131 L25.3901737,11.0900503 C25.6130801,11.37176 25.8917241,11.6034266 26.2083062,11.7702513 C26.5068947,11.921608 26.9517915,11.9975879 27.2963626,11.9975879 C27.741081,12.0083011 28.1774148,11.8742607 28.5408795,11.6152764 C28.8904271,11.360402 29.1125769,11.0588945 29.207329,10.7107538 C29.3020811,10.3626131 29.349059,9.83497487 29.3482628,9.1278392 L29.3482628,5.8160804 C29.3482628,5.10211055 29.3333333,4.63778894 29.301683,4.41889447 C29.2603631,4.17705181 29.1645365,3.94803829 29.0216069,3.74954774 C28.8515909,3.51011348 28.6163121,3.32574882 28.3444083,3.21889447 C28.0116005,3.08534049 27.6555905,3.02074296 27.297557,3.02894472 C26.9482085,3.02894472 26.5009229,3.09949749 26.2029316,3.23819095 C25.8905716,3.38828976 25.6139569,3.60466937 25.3919653,3.87256281 L25.3919653,0.0301507538 L22.4652009,0.0301507538 Z\"></path></g></svg></div></a>,\n",
       " <a class=\"ipc-button ipc-button--single-padding ipc-button--default-height ipc-button--core-baseAlt ipc-button--theme-baseAlt ipc-button--on-textPrimary ipc-text-button\" href=\"/list/watchlist?ref_=nv_usr_wl_all_0\" tabindex=\"0\"><svg class=\"ipc-icon ipc-icon--watchlist ipc-button__icon ipc-button__icon--pre\" fill=\"currentColor\" height=\"24\" role=\"presentation\" viewbox=\"0 0 24 24\" width=\"24\" xmlns=\"http://www.w3.org/2000/svg\"><path d=\"M17 3c1.05 0 1.918.82 1.994 1.851L19 5v16l-7-3-7 3V5c0-1.05.82-1.918 1.851-1.994L7 3h10zm-4 4h-2v3H8v2h3v3h2v-3h3v-2h-3V7z\" fill=\"currentColor\"></path></svg><div class=\"ipc-button__text\">Watchlist</div></a>,\n",
       " <a class=\"ipc-button ipc-button--single-padding ipc-button--default-height ipc-button--core-baseAlt ipc-button--theme-baseAlt ipc-button--on-textPrimary ipc-text-button imdb-header__signin-text\" href=\"/registration/signin?ref=nv_generic_lgin\" tabindex=\"0\"><div class=\"ipc-button__text\">Sign In</div></a>,\n",
       " <a name=\"slot_center-1\"></a>,\n",
       " <a href=\"/whats-on-tv/?ref_=im_2020\">What's on TV and Streaming »</a>,\n",
       " <a href=\"/title/tt8305806\"> <img alt=\"The Wretched\" height=\"67\" src=\"https://m.media-amazon.com/images/M/MV5BMmE2MjM0YmUtMzAxNC00NDdiLWE1ZTQtMzMyMmQ4MmVkMjIyXkEyXkFqcGdeQXVyNTIyODMzMzA@._V1_UY67_CR0,0,45,67_AL_.jpg\" width=\"45\"/>\n",
       " </a>,\n",
       " <a href=\"/title/tt8305806\" title=\"Brett Pierce (dir.), John-Paul Howard, Piper Curda\">The Wretched</a>,\n",
       " <a href=\"/title/tt8058874\"> <img alt=\"We Summon the Darkness\" height=\"67\" src=\"https://m.media-amazon.com/images/M/MV5BODQ4NDhmNTctZmMwMi00ZjI0LTlkNjEtMTRjOTA1N2JkODM1XkEyXkFqcGdeQXVyMzQwMTY2Nzk@._V1_UY67_CR0,0,45,67_AL_.jpg\" width=\"45\"/>\n",
       " </a>,\n",
       " <a href=\"/title/tt8058874\" title=\"Marc Meyers (dir.), Alexandra Daddario, Keean Johnson\">We Summon the Darkness</a>,\n",
       " <a href=\"/title/tt8483272\"> <img alt=\"Strike\" height=\"67\" src=\"https://m.media-amazon.com/images/M/MV5BNDQyMDQwYjUtMzliZS00OGVjLWIwOTgtYTgwMzE1MzE2MmNhXkEyXkFqcGdeQXVyMjc3Nzk1OA@@._V1_UY67_CR0,0,45,67_AL_.jpg\" width=\"45\"/>\n",
       " </a>,\n",
       " <a href=\"/title/tt8483272\" title=\"Trevor Hardy (dir.), Ken Stott, Lizzie Waterworth\">Strike</a>,\n",
       " <a href=\"/title/tt8896632\"> <img alt=\"Max Winslow and the House of Secrets\" height=\"67\" src=\"https://m.media-amazon.com/images/M/MV5BZDNlMzQ3MzAtZjljMy00MDM2LTkwNDUtMDYzNGViODYyM2IzXkEyXkFqcGdeQXVyMDc1MjE0MA@@._V1_UY67_CR0,0,45,67_AL_.jpg\" width=\"45\"/>\n",
       " </a>,\n",
       " <a href=\"/title/tt8896632\" title=\"Sean Olson (dir.), Chad Michael Murray, Marina Sirtis\">Max Winslow and the House of Secrets</a>,\n",
       " <a href=\"/title/tt10482504\"> <img alt=\"The Trip to Greece\" height=\"67\" src=\"https://m.media-amazon.com/images/M/MV5BNDhhMWI3MjEtMjRmMi00Zjc0LTk5ZmItYTEwMWI3YWQ5MWM2XkEyXkFqcGdeQXVyMTE1MzI2NzIz._V1_UY67_CR0,0,45,67_AL_.jpg\" width=\"45\"/>\n",
       " </a>,\n",
       " <a href=\"/title/tt10482504\" title=\"Michael Winterbottom (dir.), Rob Brydon, Steve Coogan\">The Trip to Greece</a>,\n",
       " <a href=\"/title/tt4193072\"> <img alt=\"How to Build a Girl\" height=\"67\" src=\"https://m.media-amazon.com/images/M/MV5BZGUyN2ZlMjYtZTk2Yy00MWZiLWIyMDktMzFlMmEzOWVlMGNiXkEyXkFqcGdeQXVyMTE1MzI2NzIz._V1_UY67_CR0,0,45,67_AL_.jpg\" width=\"45\"/>\n",
       " </a>,\n",
       " <a href=\"/title/tt4193072\" title=\"Coky Giedroyc (dir.), Beanie Feldstein, Cleo\">How to Build a Girl</a>,\n",
       " <a href=\"/title/tt4844140\"> <img alt=\"True History of the Kelly Gang\" height=\"67\" src=\"https://m.media-amazon.com/images/M/MV5BYjIxN2M2YWMtMDYwOC00MDZiLWIwOTUtYTYzZmNjMTNiYjhjXkEyXkFqcGdeQXVyMTkxNjUyNQ@@._V1_UY67_CR0,0,45,67_AL_.jpg\" width=\"45\"/>\n",
       " </a>,\n",
       " <a href=\"/title/tt4844140\" title=\"Justin Kurzel (dir.), George MacKay, Essie Davis\">True History of the Kelly Gang</a>,\n",
       " <a href=\"/offsite/?page-action=offsite-boxofficemojo&amp;token=BCYvy5d5dlxYh3OdZVlGB1U7kjOeltvM0Mf5OgmtjLg0vSqHoHRWiFCy3uVyvm6mMt_G0Cnergwn%0D%0ABFChW67xME6MJxV3oOpYaQz6nvXgdAJ0iXFejWHSgnG1y1bdp1nv72FfWQ5ysvIQ32IC5HNYPLfn%0D%0ADScSYd0Gs1KPwL179vk3NjMlTCO9gzqG6OQo8FVfQMM5ECeGYMKnQcuy25KPhiFSwA%0D%0A\">Box Office Mojo</a>,\n",
       " <a href=\"/offsite/?page-action=offsite-boxofficemojo&amp;token=BCYhfWy1xk0KPqlxoyEkP3WFG2ZI161FXqrO84zli9M5F8ZMsfCu4aI_0N_TPAoTxjRPmL3hKgVv%0D%0ATJH1pyXlcvs2tP_6mHO6aBdgRucXUxqvxX8lvIq3s_NdAbRIkMloLo4VlOdHB687kH7tD52Our17%0D%0ARgeD-zKdgaYOA26VjUeMZlhRMsNh-6UP2kMQtOMOrWVCXbj-EsEYYkdXG9mJuec42A%0D%0A\">See more box office results at BoxOfficeMojo.com</a>,\n",
       " <a name=\"slot_right-4\"></a>,\n",
       " <a class=\"selected\" href=\"/chart/boxoffice\"> Box Office </a>,\n",
       " <a href=\"/chart/moviemeter\"> Most Popular Movies </a>,\n",
       " <a href=\"/chart/top\"> Top Rated Movies </a>,\n",
       " <a href=\"/chart/top-english-movies\"> Top Rated English Movies </a>,\n",
       " <a href=\"/chart/tvmeter\"> Most Popular TV </a>,\n",
       " <a href=\"/chart/toptv\"> Top Rated TV </a>,\n",
       " <a href=\"/india/top-rated-indian-movies\"> Top Rated Indian Movies </a>,\n",
       " <a href=\"/chart/bottom\"> Lowest Rated Movies </a>,\n",
       " <a name=\"slot_right-6\"></a>,\n",
       " <a href=\"/genre/action\"> Action\n",
       " </a>,\n",
       " <a href=\"/genre/adventure\"> Adventure\n",
       " </a>,\n",
       " <a href=\"/genre/animation\"> Animation\n",
       " </a>,\n",
       " <a href=\"/genre/biography\"> Biography\n",
       " </a>,\n",
       " <a href=\"/genre/comedy\"> Comedy\n",
       " </a>,\n",
       " <a href=\"/genre/crime\"> Crime\n",
       " </a>,\n",
       " <a href=\"/genre/documentary\"> Documentary\n",
       " </a>,\n",
       " <a href=\"/genre/drama\"> Drama\n",
       " </a>,\n",
       " <a href=\"/genre/family\"> Family\n",
       " </a>,\n",
       " <a href=\"/genre/fantasy\"> Fantasy\n",
       " </a>,\n",
       " <a href=\"/genre/film_noir\"> Film-Noir\n",
       " </a>,\n",
       " <a href=\"/genre/history\"> History\n",
       " </a>,\n",
       " <a href=\"/genre/horror\"> Horror\n",
       " </a>,\n",
       " <a href=\"/genre/music\"> Music\n",
       " </a>,\n",
       " <a href=\"/genre/musical\"> Musical\n",
       " </a>,\n",
       " <a href=\"/genre/mystery\"> Mystery\n",
       " </a>,\n",
       " <a href=\"/genre/romance\"> Romance\n",
       " </a>,\n",
       " <a href=\"/genre/sci_fi\"> Sci-Fi\n",
       " </a>,\n",
       " <a href=\"/genre/short\"> Short\n",
       " </a>,\n",
       " <a href=\"/genre/sport\"> Sport\n",
       " </a>,\n",
       " <a href=\"/genre/thriller\"> Thriller\n",
       " </a>,\n",
       " <a href=\"/genre/war\"> War\n",
       " </a>,\n",
       " <a href=\"/genre/western\"> Western\n",
       " </a>,\n",
       " <a href=\"#\" id=\"clear_rvi\">Clear your history</a>,\n",
       " <a class=\"ipc-button ipc-button--double-padding ipc-button--default-height ipc-button--core-baseAlt ipc-button--theme-baseAlt ipc-button imdb-footer__open-in-app-button\" href=\"/whitelist-offsite?url=https%3A%2F%2Ftqp-4.tlnk.io%2Fserve%3Faction%3Dclick%26campaign_id_android%3D427112%26campaign_id_ios%3D427111%26destination_id_android%3D464200%26destination_id_ios%3D464199%26my_campaign%3Dmdot%2520sitewide%2520footer%2520%26my_site%3Dm.imdb.com%26publisher_id%3D350552%26site_id_android%3D133429%26site_id_ios%3D133428&amp;page-action=ft-gettheapp&amp;ref=ft_apps\" tabindex=\"0\"><div class=\"ipc-button__text\">Get the IMDb App</div></a>,\n",
       " <a aria-label=\"Facebook\" class=\"ipc-icon-link ipc-icon-link--external ipc-icon-link--baseAlt ipc-icon-link--onBase\" href=\"/whitelist-offsite?url=https%3A%2F%2Ffacebook.com%2Fimdb&amp;page-action=fol_fb&amp;ref=ft_fol_fb\" rel=\"nofollow\" role=\"button\" tabindex=\"0\" target=\"_blank\" title=\"Facebook\"><svg class=\"ipc-icon ipc-icon--facebook\" fill=\"currentColor\" height=\"24\" role=\"presentation\" viewbox=\"0 0 24 24\" width=\"24\" xmlns=\"http://www.w3.org/2000/svg\"><path d=\"M20.896 2H3.104C2.494 2 2 2.494 2 3.104v17.792C2 21.506 2.494 22 3.104 22h9.579v-7.745h-2.607v-3.018h2.607V9.01c0-2.584 1.577-3.99 3.882-3.99 1.104 0 2.052.082 2.329.119v2.7h-1.598c-1.254 0-1.496.595-1.496 1.47v1.927h2.989l-.39 3.018h-2.6V22h5.097c.61 0 1.104-.494 1.104-1.104V3.104C22 2.494 21.506 2 20.896 2\"></path></svg></a>,\n",
       " <a aria-label=\"Instagram\" class=\"ipc-icon-link ipc-icon-link--external ipc-icon-link--baseAlt ipc-icon-link--onBase\" href=\"/whitelist-offsite?url=https%3A%2F%2Finstagram.com%2Fimdb&amp;page-action=fol_inst&amp;ref=ft_fol_inst\" rel=\"nofollow\" role=\"button\" tabindex=\"0\" target=\"_blank\" title=\"Instagram\"><svg class=\"ipc-icon ipc-icon--instagram\" fill=\"currentColor\" height=\"24\" role=\"presentation\" viewbox=\"0 0 24 24\" width=\"24\" xmlns=\"http://www.w3.org/2000/svg\"><path d=\"M11.997 2.04c-2.715 0-3.056.011-4.122.06-1.064.048-1.79.217-2.426.463a4.901 4.901 0 0 0-1.771 1.151 4.89 4.89 0 0 0-1.153 1.767c-.247.635-.416 1.36-.465 2.422C2.011 8.967 2 9.307 2 12.017s.011 3.049.06 4.113c.049 1.062.218 1.787.465 2.422a4.89 4.89 0 0 0 1.153 1.767 4.901 4.901 0 0 0 1.77 1.15c.636.248 1.363.416 2.427.465 1.066.048 1.407.06 4.122.06s3.055-.012 4.122-.06c1.064-.049 1.79-.217 2.426-.464a4.901 4.901 0 0 0 1.77-1.15 4.89 4.89 0 0 0 1.154-1.768c.247-.635.416-1.36.465-2.422.048-1.064.06-1.404.06-4.113 0-2.71-.012-3.05-.06-4.114-.049-1.062-.218-1.787-.465-2.422a4.89 4.89 0 0 0-1.153-1.767 4.901 4.901 0 0 0-1.77-1.15c-.637-.247-1.363-.416-2.427-.464-1.067-.049-1.407-.06-4.122-.06m0 1.797c2.67 0 2.985.01 4.04.058.974.045 1.503.207 1.856.344.466.181.8.397 1.15.746.349.35.566.682.747 1.147.137.352.3.88.344 1.853.048 1.052.058 1.368.058 4.032 0 2.664-.01 2.98-.058 4.031-.044.973-.207 1.501-.344 1.853a3.09 3.09 0 0 1-.748 1.147c-.35.35-.683.565-1.15.746-.352.137-.88.3-1.856.344-1.054.048-1.37.058-4.04.058-2.669 0-2.985-.01-4.039-.058-.974-.044-1.504-.207-1.856-.344a3.098 3.098 0 0 1-1.15-.746 3.09 3.09 0 0 1-.747-1.147c-.137-.352-.3-.88-.344-1.853-.049-1.052-.059-1.367-.059-4.031 0-2.664.01-2.98.059-4.032.044-.973.207-1.501.344-1.853a3.09 3.09 0 0 1 .748-1.147c.35-.349.682-.565 1.149-.746.352-.137.882-.3 1.856-.344 1.054-.048 1.37-.058 4.04-.058\"></path><path d=\"M11.997 15.342a3.329 3.329 0 0 1-3.332-3.325 3.329 3.329 0 0 1 3.332-3.326 3.329 3.329 0 0 1 3.332 3.326 3.329 3.329 0 0 1-3.332 3.325m0-8.449a5.128 5.128 0 0 0-5.134 5.124 5.128 5.128 0 0 0 5.134 5.123 5.128 5.128 0 0 0 5.133-5.123 5.128 5.128 0 0 0-5.133-5.124m6.536-.203c0 .662-.537 1.198-1.2 1.198a1.198 1.198 0 1 1 1.2-1.197\"></path></svg></a>,\n",
       " <a aria-label=\"Twitch\" class=\"ipc-icon-link ipc-icon-link--external ipc-icon-link--baseAlt ipc-icon-link--onBase\" href=\"/whitelist-offsite?url=https%3A%2F%2Ftwitch.tv%2FIMDb&amp;page-action=fol_twch&amp;ref=ft_fol_twch\" rel=\"nofollow\" role=\"button\" tabindex=\"0\" target=\"_blank\" title=\"Twitch\"><svg class=\"ipc-icon ipc-icon--twitch\" fill=\"currentColor\" height=\"24\" role=\"presentation\" viewbox=\"0 0 24 24\" width=\"24\" xmlns=\"http://www.w3.org/2000/svg\"><path d=\"M3.406 2h18.596v12.814l-5.469 5.47H12.47L9.813 22.94H7.001v-2.657H2V5.594L3.406 2zm16.721 11.876v-10H5.125v13.126h4.22v2.656L12 17.002h5l3.126-3.126z\"></path><path d=\"M17.002 7.47v5.469h-1.875v-5.47zM12.001 7.47v5.469h-1.875v-5.47z\"></path></svg></a>,\n",
       " <a aria-label=\"Twitter\" class=\"ipc-icon-link ipc-icon-link--external ipc-icon-link--baseAlt ipc-icon-link--onBase\" href=\"/whitelist-offsite?url=https%3A%2F%2Ftwitter.com%2Fimdb&amp;page-action=fol_tw&amp;ref=ft_fol_tw\" rel=\"nofollow\" role=\"button\" tabindex=\"0\" target=\"_blank\" title=\"Twitter\"><svg class=\"ipc-icon ipc-icon--twitter\" fill=\"currentColor\" height=\"24\" role=\"presentation\" viewbox=\"0 0 24 24\" width=\"24\" xmlns=\"http://www.w3.org/2000/svg\"><path d=\"M8.29 19.936c7.547 0 11.675-6.13 11.675-11.446 0-.175-.004-.348-.012-.52A8.259 8.259 0 0 0 22 5.886a8.319 8.319 0 0 1-2.356.633 4.052 4.052 0 0 0 1.804-2.225c-.793.46-1.67.796-2.606.976A4.138 4.138 0 0 0 15.847 4c-2.266 0-4.104 1.802-4.104 4.023 0 .315.036.622.107.917a11.728 11.728 0 0 1-8.458-4.203 3.949 3.949 0 0 0-.556 2.022 4 4 0 0 0 1.826 3.348 4.136 4.136 0 0 1-1.858-.503l-.001.051c0 1.949 1.415 3.575 3.292 3.944a4.193 4.193 0 0 1-1.853.07c.522 1.597 2.037 2.76 3.833 2.793a8.34 8.34 0 0 1-5.096 1.722A8.51 8.51 0 0 1 2 18.13a11.785 11.785 0 0 0 6.29 1.807\"></path></svg></a>,\n",
       " <a aria-label=\"YouTube\" class=\"ipc-icon-link ipc-icon-link--external ipc-icon-link--baseAlt ipc-icon-link--onBase\" href=\"/whitelist-offsite?url=https%3A%2F%2Fyoutube.com%2Fimdb%2F&amp;page-action=fol_yt&amp;ref=ft_fol_yt\" rel=\"nofollow\" role=\"button\" tabindex=\"0\" target=\"_blank\" title=\"YouTube\"><svg class=\"ipc-icon ipc-icon--youtube\" fill=\"currentColor\" height=\"24\" role=\"presentation\" viewbox=\"0 0 24 24\" width=\"24\" xmlns=\"http://www.w3.org/2000/svg\"><path d=\"M9.955 14.955v-5.91L15.182 12l-5.227 2.955zm11.627-7.769a2.505 2.505 0 0 0-1.768-1.768C18.254 5 12 5 12 5s-6.254 0-7.814.418c-.86.23-1.538.908-1.768 1.768C2 8.746 2 12 2 12s0 3.254.418 4.814c.23.86.908 1.538 1.768 1.768C5.746 19 12 19 12 19s6.254 0 7.814-.418a2.505 2.505 0 0 0 1.768-1.768C22 15.254 22 12 22 12s0-3.254-.418-4.814z\"></path></svg></a>,\n",
       " <a class=\"ipc-link ipc-link--baseAlt ipc-link--touch-target ipc-link--inherit-color ipc-link--launch\" href=\"/whitelist-offsite?url=https%3A%2F%2Ftqp-4.tlnk.io%2Fserve%3Faction%3Dclick%26campaign_id_android%3D427112%26campaign_id_ios%3D427111%26destination_id_android%3D464200%26destination_id_ios%3D464199%26my_campaign%3Dmdot%2520sitewide%2520footer%2520%26my_site%3Dm.imdb.com%26publisher_id%3D350552%26site_id_android%3D133429%26site_id_ios%3D133428&amp;page-action=ft-gettheapp&amp;ref=ft_apps\" target=\"_blank\">Get the IMDb App<svg class=\"ipc-link__launch-icon\" fill=\"#000000\" height=\"10\" viewbox=\"0 0 10 10\" width=\"10\" xmlns=\"http://www.w3.org/2000/svg\"><g><path d=\"M9,9 L1,9 L1,1 L4,1 L4,0 L-1.42108547e-14,0 L-1.42108547e-14,10 L10,10 L10,6 L9,6 L9,9 Z M6,0 L6,1 L8,1 L2.998122,6.03786058 L3.998122,7.03786058 L9,2 L9,4 L10,4 L10,0 L6,0 Z\"></path></g></svg></a>,\n",
       " <a class=\"ipc-link ipc-link--baseAlt ipc-link--touch-target ipc-link--inherit-color\" href=\"?mode=desktop&amp;ref_=m_ft_dsk\">View Full Site</a>,\n",
       " <a class=\"ipc-link ipc-link--baseAlt ipc-link--touch-target ipc-link--inherit-color ipc-link--launch\" href=\"https://help.imdb.com/imdb?ref_=ft_hlp\" target=\"_blank\">Help<svg class=\"ipc-link__launch-icon\" fill=\"#000000\" height=\"10\" viewbox=\"0 0 10 10\" width=\"10\" xmlns=\"http://www.w3.org/2000/svg\"><g><path d=\"M9,9 L1,9 L1,1 L4,1 L4,0 L-1.42108547e-14,0 L-1.42108547e-14,10 L10,10 L10,6 L9,6 L9,9 Z M6,0 L6,1 L8,1 L2.998122,6.03786058 L3.998122,7.03786058 L9,2 L9,4 L10,4 L10,0 L6,0 Z\"></path></g></svg></a>,\n",
       " <a class=\"ipc-link ipc-link--baseAlt ipc-link--touch-target ipc-link--inherit-color ipc-link--launch\" href=\"https://help.imdb.com/article/imdb/general-information/imdb-site-index/GNCX7BHNSPBTFALQ?ref_=ft_si#so\" target=\"_blank\">Site Index<svg class=\"ipc-link__launch-icon\" fill=\"#000000\" height=\"10\" viewbox=\"0 0 10 10\" width=\"10\" xmlns=\"http://www.w3.org/2000/svg\"><g><path d=\"M9,9 L1,9 L1,1 L4,1 L4,0 L-1.42108547e-14,0 L-1.42108547e-14,10 L10,10 L10,6 L9,6 L9,9 Z M6,0 L6,1 L8,1 L2.998122,6.03786058 L3.998122,7.03786058 L9,2 L9,4 L10,4 L10,0 L6,0 Z\"></path></g></svg></a>,\n",
       " <a class=\"ipc-link ipc-link--baseAlt ipc-link--touch-target ipc-link--inherit-color ipc-link--launch\" href=\"https://pro.imdb.com?ref_=ft_pro&amp;rf=cons_tf_pro\" target=\"_blank\">IMDbPro<svg class=\"ipc-link__launch-icon\" fill=\"#000000\" height=\"10\" viewbox=\"0 0 10 10\" width=\"10\" xmlns=\"http://www.w3.org/2000/svg\"><g><path d=\"M9,9 L1,9 L1,1 L4,1 L4,0 L-1.42108547e-14,0 L-1.42108547e-14,10 L10,10 L10,6 L9,6 L9,9 Z M6,0 L6,1 L8,1 L2.998122,6.03786058 L3.998122,7.03786058 L9,2 L9,4 L10,4 L10,0 L6,0 Z\"></path></g></svg></a>,\n",
       " <a class=\"ipc-link ipc-link--baseAlt ipc-link--touch-target ipc-link--inherit-color ipc-link--launch\" href=\"https://www.boxofficemojo.com\" target=\"_blank\">Box Office Mojo<svg class=\"ipc-link__launch-icon\" fill=\"#000000\" height=\"10\" viewbox=\"0 0 10 10\" width=\"10\" xmlns=\"http://www.w3.org/2000/svg\"><g><path d=\"M9,9 L1,9 L1,1 L4,1 L4,0 L-1.42108547e-14,0 L-1.42108547e-14,10 L10,10 L10,6 L9,6 L9,9 Z M6,0 L6,1 L8,1 L2.998122,6.03786058 L3.998122,7.03786058 L9,2 L9,4 L10,4 L10,0 L6,0 Z\"></path></g></svg></a>,\n",
       " <a class=\"ipc-link ipc-link--baseAlt ipc-link--touch-target ipc-link--inherit-color ipc-link--launch\" href=\"https://developer.imdb.com/?ref=ft_ds\" target=\"_blank\">IMDb Developer<svg class=\"ipc-link__launch-icon\" fill=\"#000000\" height=\"10\" viewbox=\"0 0 10 10\" width=\"10\" xmlns=\"http://www.w3.org/2000/svg\"><g><path d=\"M9,9 L1,9 L1,1 L4,1 L4,0 L-1.42108547e-14,0 L-1.42108547e-14,10 L10,10 L10,6 L9,6 L9,9 Z M6,0 L6,1 L8,1 L2.998122,6.03786058 L3.998122,7.03786058 L9,2 L9,4 L10,4 L10,0 L6,0 Z\"></path></g></svg></a>,\n",
       " <a class=\"ipc-link ipc-link--baseAlt ipc-link--touch-target ipc-link--inherit-color\" href=\"https://www.imdb.com/pressroom/?ref_=ft_pr\">Press Room</a>,\n",
       " <a class=\"ipc-link ipc-link--baseAlt ipc-link--touch-target ipc-link--inherit-color ipc-link--launch\" href=\"https://advertising.amazon.com/products/display-ads\" target=\"_blank\">Advertising<svg class=\"ipc-link__launch-icon\" fill=\"#000000\" height=\"10\" viewbox=\"0 0 10 10\" width=\"10\" xmlns=\"http://www.w3.org/2000/svg\"><g><path d=\"M9,9 L1,9 L1,1 L4,1 L4,0 L-1.42108547e-14,0 L-1.42108547e-14,10 L10,10 L10,6 L9,6 L9,9 Z M6,0 L6,1 L8,1 L2.998122,6.03786058 L3.998122,7.03786058 L9,2 L9,4 L10,4 L10,0 L6,0 Z\"></path></g></svg></a>,\n",
       " <a class=\"ipc-link ipc-link--baseAlt ipc-link--touch-target ipc-link--inherit-color ipc-link--launch\" href=\"https://www.amazon.jobs/en/teams/imdb?ref_=ft_jb\" target=\"_blank\">Jobs<svg class=\"ipc-link__launch-icon\" fill=\"#000000\" height=\"10\" viewbox=\"0 0 10 10\" width=\"10\" xmlns=\"http://www.w3.org/2000/svg\"><g><path d=\"M9,9 L1,9 L1,1 L4,1 L4,0 L-1.42108547e-14,0 L-1.42108547e-14,10 L10,10 L10,6 L9,6 L9,9 Z M6,0 L6,1 L8,1 L2.998122,6.03786058 L3.998122,7.03786058 L9,2 L9,4 L10,4 L10,0 L6,0 Z\"></path></g></svg></a>,\n",
       " <a class=\"ipc-link ipc-link--baseAlt ipc-link--touch-target ipc-link--inherit-color\" href=\"/conditions?ref_=ft_cou\">Conditions of Use</a>,\n",
       " <a class=\"ipc-link ipc-link--baseAlt ipc-link--touch-target ipc-link--inherit-color\" href=\"/privacy?ref_=ft_pvc\">Privacy Policy</a>,\n",
       " <a class=\"ipc-link ipc-link--baseAlt ipc-link--touch-target ipc-link--inherit-color ipc-link--launch\" href=\"/whitelist-offsite?url=https%3A%2F%2Fwww.amazon.com%2Fb%2F%3F%26node%3D5160028011%26ref_%3Dft_iba&amp;page-action=ft-iba&amp;ref=ft_iba\" target=\"_blank\">Interest-Based Ads<svg class=\"ipc-link__launch-icon\" fill=\"#000000\" height=\"10\" viewbox=\"0 0 10 10\" width=\"10\" xmlns=\"http://www.w3.org/2000/svg\"><g><path d=\"M9,9 L1,9 L1,1 L4,1 L4,0 L-1.42108547e-14,0 L-1.42108547e-14,10 L10,10 L10,6 L9,6 L9,9 Z M6,0 L6,1 L8,1 L2.998122,6.03786058 L3.998122,7.03786058 L9,2 L9,4 L10,4 L10,0 L6,0 Z\"></path></g></svg></a>]"
      ]
     },
     "execution_count": 176,
     "metadata": {},
     "output_type": "execute_result"
    }
   ],
   "source": [
    "soup.find_all(\"a\")"
   ]
  },
  {
   "cell_type": "code",
   "execution_count": 187,
   "metadata": {},
   "outputs": [],
   "source": [
    "nombres = soup.find_all(\"td\", attrs= {\"class\":\"titleColumn\"})"
   ]
  },
  {
   "cell_type": "code",
   "execution_count": 204,
   "metadata": {},
   "outputs": [],
   "source": [
    "nombres_l = [n.text.strip(\"\\n\") for n in nombres]"
   ]
  },
  {
   "cell_type": "code",
   "execution_count": 205,
   "metadata": {},
   "outputs": [
    {
     "data": {
      "text/plain": [
       "['The Wretched',\n",
       " 'We Summon the Darkness',\n",
       " 'Strike',\n",
       " 'Max Winslow and the House of Secrets',\n",
       " 'The Trip to Greece',\n",
       " 'How to Build a Girl',\n",
       " 'True History of the Kelly Gang']"
      ]
     },
     "execution_count": 205,
     "metadata": {},
     "output_type": "execute_result"
    }
   ],
   "source": [
    "nombres_l"
   ]
  },
  {
   "cell_type": "code",
   "execution_count": 203,
   "metadata": {},
   "outputs": [],
   "source": [
    "nombres = soup.select(\"td .titleColumn\")"
   ]
  }
 ],
 "metadata": {
  "kernelspec": {
   "display_name": "Python 3",
   "language": "python",
   "name": "python3"
  },
  "language_info": {
   "codemirror_mode": {
    "name": "ipython",
    "version": 3
   },
   "file_extension": ".py",
   "mimetype": "text/x-python",
   "name": "python",
   "nbconvert_exporter": "python",
   "pygments_lexer": "ipython3",
   "version": "3.7.6"
  }
 },
 "nbformat": 4,
 "nbformat_minor": 4
}
